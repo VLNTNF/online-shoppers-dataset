{
  "nbformat": 4,
  "nbformat_minor": 0,
  "metadata": {
    "colab": {
      "name": "Online Shoppers Dataset",
      "provenance": [],
      "collapsed_sections": [],
      "authorship_tag": "ABX9TyN3JAe8iGogfaLDJE/3qxiC",
      "include_colab_link": true
    },
    "kernelspec": {
      "name": "python3",
      "display_name": "Python 3"
    }
  },
  "cells": [
    {
      "cell_type": "markdown",
      "metadata": {
        "id": "view-in-github",
        "colab_type": "text"
      },
      "source": [
        "<a href=\"https://colab.research.google.com/github/VLNTNF/online-shoppers-dataset/blob/main/Online_Shoppers_Dataset.ipynb\" target=\"_parent\"><img src=\"https://colab.research.google.com/assets/colab-badge.svg\" alt=\"Open In Colab\"/></a>"
      ]
    },
    {
      "cell_type": "code",
      "metadata": {
        "id": "AX4UzWAcYB0e"
      },
      "source": [
        "import requests"
      ],
      "execution_count": 1,
      "outputs": []
    },
    {
      "cell_type": "code",
      "metadata": {
        "colab": {
          "base_uri": "https://localhost:8080/"
        },
        "id": "KS3fWCugYvMs",
        "outputId": "9686f042-40c7-4ba9-93d0-445330f7ab2f"
      },
      "source": [
        "url = \"https://www.afm-telethon.fr/telethon/bref/parrains-resultats-telethon-1379\"\r\n",
        "\r\n",
        "reponse = requests.get(url)\r\n",
        "reponse.status_code"
      ],
      "execution_count": 2,
      "outputs": [
        {
          "output_type": "execute_result",
          "data": {
            "text/plain": [
              "200"
            ]
          },
          "metadata": {
            "tags": []
          },
          "execution_count": 2
        }
      ]
    },
    {
      "cell_type": "code",
      "metadata": {
        "id": "vOlfZpS4Y26n"
      },
      "source": [
        "html = reponse.content"
      ],
      "execution_count": 3,
      "outputs": []
    },
    {
      "cell_type": "code",
      "metadata": {
        "id": "ZiLCzcJWY5jA"
      },
      "source": [
        "from bs4 import BeautifulSoup\r\n",
        "soup = BeautifulSoup(html, 'html.parser')\r\n",
        "element = soup.select_one('td')\r\n",
        "text_data = [element.get_text() for element in soup.select('td')]\r\n",
        "annee, parrain, montant = text_data[3::3], text_data[4::3], text_data[5::3]"
      ],
      "execution_count": 4,
      "outputs": []
    },
    {
      "cell_type": "code",
      "metadata": {
        "colab": {
          "base_uri": "https://localhost:8080/",
          "height": 206
        },
        "id": "VdAv3Q2SZCPD",
        "outputId": "53c40f96-50fa-4d9d-eda0-155901299613"
      },
      "source": [
        "import pandas as pd\r\n",
        "df = pd.DataFrame({\"annee\":annee,\r\n",
        "                  \"parrain\":parrain,\r\n",
        "                  \"montant\":montant})\r\n",
        "df.head()"
      ],
      "execution_count": 5,
      "outputs": [
        {
          "output_type": "execute_result",
          "data": {
            "text/html": [
              "<div>\n",
              "<style scoped>\n",
              "    .dataframe tbody tr th:only-of-type {\n",
              "        vertical-align: middle;\n",
              "    }\n",
              "\n",
              "    .dataframe tbody tr th {\n",
              "        vertical-align: top;\n",
              "    }\n",
              "\n",
              "    .dataframe thead th {\n",
              "        text-align: right;\n",
              "    }\n",
              "</style>\n",
              "<table border=\"1\" class=\"dataframe\">\n",
              "  <thead>\n",
              "    <tr style=\"text-align: right;\">\n",
              "      <th></th>\n",
              "      <th>annee</th>\n",
              "      <th>parrain</th>\n",
              "      <th>montant</th>\n",
              "    </tr>\n",
              "  </thead>\n",
              "  <tbody>\n",
              "    <tr>\n",
              "      <th>0</th>\n",
              "      <td>1987</td>\n",
              "      <td>Jerry LEWIS</td>\n",
              "      <td>29 650 000 €</td>\n",
              "    </tr>\n",
              "    <tr>\n",
              "      <th>1</th>\n",
              "      <td>1988</td>\n",
              "      <td>Mireille MATHIEU</td>\n",
              "      <td>28 490 000 €</td>\n",
              "    </tr>\n",
              "    <tr>\n",
              "      <th>2</th>\n",
              "      <td>1989</td>\n",
              "      <td>Alain DELON</td>\n",
              "      <td>40 930 000 €</td>\n",
              "    </tr>\n",
              "    <tr>\n",
              "      <th>3</th>\n",
              "      <td>1990</td>\n",
              "      <td>Claudia CARDINALE</td>\n",
              "      <td>46 510 000 €</td>\n",
              "    </tr>\n",
              "    <tr>\n",
              "      <th>4</th>\n",
              "      <td>1991</td>\n",
              "      <td>Jerry LEWIS, Mireille MATHIEU et Ornella MUTTI</td>\n",
              "      <td>38 650 000 €</td>\n",
              "    </tr>\n",
              "  </tbody>\n",
              "</table>\n",
              "</div>"
            ],
            "text/plain": [
              "  annee                                         parrain       montant\n",
              "0  1987                                     Jerry LEWIS  29 650 000 €\n",
              "1  1988                                Mireille MATHIEU  28 490 000 €\n",
              "2  1989                                     Alain DELON  40 930 000 €\n",
              "3  1990                               Claudia CARDINALE  46 510 000 €\n",
              "4  1991  Jerry LEWIS, Mireille MATHIEU et Ornella MUTTI  38 650 000 €"
            ]
          },
          "metadata": {
            "tags": []
          },
          "execution_count": 5
        }
      ]
    },
    {
      "cell_type": "code",
      "metadata": {
        "colab": {
          "base_uri": "https://localhost:8080/"
        },
        "id": "nJL2_MAWZH8Q",
        "outputId": "0a36a462-d94f-4286-b136-91f32fa785dd"
      },
      "source": [
        "df[\"annee\"] = df.annee.astype(int)\r\n",
        "df[\"montant\"] = df.montant.str.replace(\"\\D\", '').astype(int)\r\n",
        "df.dtypes"
      ],
      "execution_count": 6,
      "outputs": [
        {
          "output_type": "execute_result",
          "data": {
            "text/plain": [
              "annee       int64\n",
              "parrain    object\n",
              "montant     int64\n",
              "dtype: object"
            ]
          },
          "metadata": {
            "tags": []
          },
          "execution_count": 6
        }
      ]
    },
    {
      "cell_type": "code",
      "metadata": {
        "colab": {
          "base_uri": "https://localhost:8080/",
          "height": 360
        },
        "id": "BqOjLye9ZL4G",
        "outputId": "3a3cea6e-19b9-4295-9a07-d6966ea09102"
      },
      "source": [
        "ax = df.plot(kind='bar', x=\"annee\", figsize=(15,5))"
      ],
      "execution_count": 7,
      "outputs": [
        {
          "output_type": "display_data",
          "data": {
            "image/png": "[encoded data removed]",
            "text/plain": [
              "<Figure size 1080x360 with 1 Axes>"
            ]
          },
          "metadata": {
            "tags": [],
            "needs_background": "light"
          }
        }
      ]
    }
  ]
}