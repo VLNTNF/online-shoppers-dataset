{
  "nbformat": 4,
  "nbformat_minor": 0,
  "metadata": {
    "colab": {
      "name": "Online Shoppers Dataset",
      "provenance": [],
      "collapsed_sections": [],
      "toc_visible": true,
      "include_colab_link": true
    },
    "kernelspec": {
      "name": "python3",
      "display_name": "Python 3"
    }
  },
  "cells": [
    {
      "cell_type": "markdown",
      "metadata": {
        "id": "view-in-github",
        "colab_type": "text"
      },
      "source": [
        "<a href=\"https://colab.research.google.com/github/VLNTNF/online-shoppers-dataset/blob/main/Online_Shoppers_Dataset.ipynb\" target=\"_parent\"><img src=\"https://colab.research.google.com/assets/colab-badge.svg\" alt=\"Open In Colab\"/></a>"
      ]
    },
    {
      "cell_type": "markdown",
      "metadata": {
        "id": "L_ElYZGWmfmB"
      },
      "source": [
        "## **Online Shoppers Intention**\n",
        "\n",
        "\n",
        "\n"
      ]
    },
    {
      "cell_type": "code",
      "metadata": {
        "id": "zexacdRUCUqt"
      },
      "source": [
        "Ycsv_file = 'https://archive.ics.uci.edu/ml/machine-learning-databases/00468/online_shoppers_intention.csv'"
      ],
      "execution_count": 7,
      "outputs": []
    },
    {
      "cell_type": "markdown",
      "metadata": {
        "id": "W52s5YGIRDWS"
      },
      "source": [
        "# `DATA DESCRIPTION`"
      ]
    },
    {
      "cell_type": "code",
      "metadata": {
        "id": "PbBpwPdQRDWV"
      },
      "source": [
        "import pandas as pd\n",
        "import numpy as np\n",
        "import matplotlib.pyplot as plt\n",
        "import seaborn as sns\n",
        "\n",
        "from sklearn.model_selection import train_test_split\n",
        "from sklearn.model_selection import cross_val_score\n",
        "import scipy.stats as st\n",
        "\n",
        "from sklearn.neighbors import KNeighborsClassifier\n",
        "from sklearn.linear_model import LogisticRegression\n",
        "from sklearn.tree import DecisionTreeClassifier\n",
        "from sklearn.ensemble import RandomForestClassifier\n",
        "from sklearn.model_selection import GridSearchCV"
      ],
      "execution_count": 8,
      "outputs": []
    },
    {
      "cell_type": "code",
      "metadata": {
        "id": "uPG6UePARDWW",
        "colab": {
          "base_uri": "https://localhost:8080/",
          "height": 226
        },
        "outputId": "56e98f23-23a1-4ef6-e7a0-2803c43181e1"
      },
      "source": [
        "data_original = pd.read_csv(Ycsv_file)\n",
        "data_original.head()"
      ],
      "execution_count": 9,
      "outputs": [
        {
          "output_type": "execute_result",
          "data": {
            "text/html": [
              "<div>\n",
              "<style scoped>\n",
              "    .dataframe tbody tr th:only-of-type {\n",
              "        vertical-align: middle;\n",
              "    }\n",
              "\n",
              "    .dataframe tbody tr th {\n",
              "        vertical-align: top;\n",
              "    }\n",
              "\n",
              "    .dataframe thead th {\n",
              "        text-align: right;\n",
              "    }\n",
              "</style>\n",
              "<table border=\"1\" class=\"dataframe\">\n",
              "  <thead>\n",
              "    <tr style=\"text-align: right;\">\n",
              "      <th></th>\n",
              "      <th>Administrative</th>\n",
              "      <th>Administrative_Duration</th>\n",
              "      <th>Informational</th>\n",
              "      <th>Informational_Duration</th>\n",
              "      <th>ProductRelated</th>\n",
              "      <th>ProductRelated_Duration</th>\n",
              "      <th>BounceRates</th>\n",
              "      <th>ExitRates</th>\n",
              "      <th>PageValues</th>\n",
              "      <th>SpecialDay</th>\n",
              "      <th>Month</th>\n",
              "      <th>OperatingSystems</th>\n",
              "      <th>Browser</th>\n",
              "      <th>Region</th>\n",
              "      <th>TrafficType</th>\n",
              "      <th>VisitorType</th>\n",
              "      <th>Weekend</th>\n",
              "      <th>Revenue</th>\n",
              "    </tr>\n",
              "  </thead>\n",
              "  <tbody>\n",
              "    <tr>\n",
              "      <th>0</th>\n",
              "      <td>0</td>\n",
              "      <td>0.0</td>\n",
              "      <td>0</td>\n",
              "      <td>0.0</td>\n",
              "      <td>1</td>\n",
              "      <td>0.000000</td>\n",
              "      <td>0.20</td>\n",
              "      <td>0.20</td>\n",
              "      <td>0.0</td>\n",
              "      <td>0.0</td>\n",
              "      <td>Feb</td>\n",
              "      <td>1</td>\n",
              "      <td>1</td>\n",
              "      <td>1</td>\n",
              "      <td>1</td>\n",
              "      <td>Returning_Visitor</td>\n",
              "      <td>False</td>\n",
              "      <td>False</td>\n",
              "    </tr>\n",
              "    <tr>\n",
              "      <th>1</th>\n",
              "      <td>0</td>\n",
              "      <td>0.0</td>\n",
              "      <td>0</td>\n",
              "      <td>0.0</td>\n",
              "      <td>2</td>\n",
              "      <td>64.000000</td>\n",
              "      <td>0.00</td>\n",
              "      <td>0.10</td>\n",
              "      <td>0.0</td>\n",
              "      <td>0.0</td>\n",
              "      <td>Feb</td>\n",
              "      <td>2</td>\n",
              "      <td>2</td>\n",
              "      <td>1</td>\n",
              "      <td>2</td>\n",
              "      <td>Returning_Visitor</td>\n",
              "      <td>False</td>\n",
              "      <td>False</td>\n",
              "    </tr>\n",
              "    <tr>\n",
              "      <th>2</th>\n",
              "      <td>0</td>\n",
              "      <td>0.0</td>\n",
              "      <td>0</td>\n",
              "      <td>0.0</td>\n",
              "      <td>1</td>\n",
              "      <td>0.000000</td>\n",
              "      <td>0.20</td>\n",
              "      <td>0.20</td>\n",
              "      <td>0.0</td>\n",
              "      <td>0.0</td>\n",
              "      <td>Feb</td>\n",
              "      <td>4</td>\n",
              "      <td>1</td>\n",
              "      <td>9</td>\n",
              "      <td>3</td>\n",
              "      <td>Returning_Visitor</td>\n",
              "      <td>False</td>\n",
              "      <td>False</td>\n",
              "    </tr>\n",
              "    <tr>\n",
              "      <th>3</th>\n",
              "      <td>0</td>\n",
              "      <td>0.0</td>\n",
              "      <td>0</td>\n",
              "      <td>0.0</td>\n",
              "      <td>2</td>\n",
              "      <td>2.666667</td>\n",
              "      <td>0.05</td>\n",
              "      <td>0.14</td>\n",
              "      <td>0.0</td>\n",
              "      <td>0.0</td>\n",
              "      <td>Feb</td>\n",
              "      <td>3</td>\n",
              "      <td>2</td>\n",
              "      <td>2</td>\n",
              "      <td>4</td>\n",
              "      <td>Returning_Visitor</td>\n",
              "      <td>False</td>\n",
              "      <td>False</td>\n",
              "    </tr>\n",
              "    <tr>\n",
              "      <th>4</th>\n",
              "      <td>0</td>\n",
              "      <td>0.0</td>\n",
              "      <td>0</td>\n",
              "      <td>0.0</td>\n",
              "      <td>10</td>\n",
              "      <td>627.500000</td>\n",
              "      <td>0.02</td>\n",
              "      <td>0.05</td>\n",
              "      <td>0.0</td>\n",
              "      <td>0.0</td>\n",
              "      <td>Feb</td>\n",
              "      <td>3</td>\n",
              "      <td>3</td>\n",
              "      <td>1</td>\n",
              "      <td>4</td>\n",
              "      <td>Returning_Visitor</td>\n",
              "      <td>True</td>\n",
              "      <td>False</td>\n",
              "    </tr>\n",
              "  </tbody>\n",
              "</table>\n",
              "</div>"
            ],
            "text/plain": [
              "   Administrative  Administrative_Duration  ...  Weekend  Revenue\n",
              "0               0                      0.0  ...    False    False\n",
              "1               0                      0.0  ...    False    False\n",
              "2               0                      0.0  ...    False    False\n",
              "3               0                      0.0  ...    False    False\n",
              "4               0                      0.0  ...     True    False\n",
              "\n",
              "[5 rows x 18 columns]"
            ]
          },
          "metadata": {
            "tags": []
          },
          "execution_count": 9
        }
      ]
    },
    {
      "cell_type": "code",
      "metadata": {
        "id": "vDKT2B12RDWX",
        "colab": {
          "base_uri": "https://localhost:8080/",
          "height": 320
        },
        "outputId": "c25e0e30-d1e5-482a-dc56-3e5f3643d9dd"
      },
      "source": [
        "data_original.describe()"
      ],
      "execution_count": 10,
      "outputs": [
        {
          "output_type": "execute_result",
          "data": {
            "text/html": [
              "<div>\n",
              "<style scoped>\n",
              "    .dataframe tbody tr th:only-of-type {\n",
              "        vertical-align: middle;\n",
              "    }\n",
              "\n",
              "    .dataframe tbody tr th {\n",
              "        vertical-align: top;\n",
              "    }\n",
              "\n",
              "    .dataframe thead th {\n",
              "        text-align: right;\n",
              "    }\n",
              "</style>\n",
              "<table border=\"1\" class=\"dataframe\">\n",
              "  <thead>\n",
              "    <tr style=\"text-align: right;\">\n",
              "      <th></th>\n",
              "      <th>Administrative</th>\n",
              "      <th>Administrative_Duration</th>\n",
              "      <th>Informational</th>\n",
              "      <th>Informational_Duration</th>\n",
              "      <th>ProductRelated</th>\n",
              "      <th>ProductRelated_Duration</th>\n",
              "      <th>BounceRates</th>\n",
              "      <th>ExitRates</th>\n",
              "      <th>PageValues</th>\n",
              "      <th>SpecialDay</th>\n",
              "      <th>OperatingSystems</th>\n",
              "      <th>Browser</th>\n",
              "      <th>Region</th>\n",
              "      <th>TrafficType</th>\n",
              "    </tr>\n",
              "  </thead>\n",
              "  <tbody>\n",
              "    <tr>\n",
              "      <th>count</th>\n",
              "      <td>12330.000000</td>\n",
              "      <td>12330.000000</td>\n",
              "      <td>12330.000000</td>\n",
              "      <td>12330.000000</td>\n",
              "      <td>12330.000000</td>\n",
              "      <td>12330.000000</td>\n",
              "      <td>12330.000000</td>\n",
              "      <td>12330.000000</td>\n",
              "      <td>12330.000000</td>\n",
              "      <td>12330.000000</td>\n",
              "      <td>12330.000000</td>\n",
              "      <td>12330.000000</td>\n",
              "      <td>12330.000000</td>\n",
              "      <td>12330.000000</td>\n",
              "    </tr>\n",
              "    <tr>\n",
              "      <th>mean</th>\n",
              "      <td>2.315166</td>\n",
              "      <td>80.818611</td>\n",
              "      <td>0.503569</td>\n",
              "      <td>34.472398</td>\n",
              "      <td>31.731468</td>\n",
              "      <td>1194.746220</td>\n",
              "      <td>0.022191</td>\n",
              "      <td>0.043073</td>\n",
              "      <td>5.889258</td>\n",
              "      <td>0.061427</td>\n",
              "      <td>2.124006</td>\n",
              "      <td>2.357097</td>\n",
              "      <td>3.147364</td>\n",
              "      <td>4.069586</td>\n",
              "    </tr>\n",
              "    <tr>\n",
              "      <th>std</th>\n",
              "      <td>3.321784</td>\n",
              "      <td>176.779107</td>\n",
              "      <td>1.270156</td>\n",
              "      <td>140.749294</td>\n",
              "      <td>44.475503</td>\n",
              "      <td>1913.669288</td>\n",
              "      <td>0.048488</td>\n",
              "      <td>0.048597</td>\n",
              "      <td>18.568437</td>\n",
              "      <td>0.198917</td>\n",
              "      <td>0.911325</td>\n",
              "      <td>1.717277</td>\n",
              "      <td>2.401591</td>\n",
              "      <td>4.025169</td>\n",
              "    </tr>\n",
              "    <tr>\n",
              "      <th>min</th>\n",
              "      <td>0.000000</td>\n",
              "      <td>0.000000</td>\n",
              "      <td>0.000000</td>\n",
              "      <td>0.000000</td>\n",
              "      <td>0.000000</td>\n",
              "      <td>0.000000</td>\n",
              "      <td>0.000000</td>\n",
              "      <td>0.000000</td>\n",
              "      <td>0.000000</td>\n",
              "      <td>0.000000</td>\n",
              "      <td>1.000000</td>\n",
              "      <td>1.000000</td>\n",
              "      <td>1.000000</td>\n",
              "      <td>1.000000</td>\n",
              "    </tr>\n",
              "    <tr>\n",
              "      <th>25%</th>\n",
              "      <td>0.000000</td>\n",
              "      <td>0.000000</td>\n",
              "      <td>0.000000</td>\n",
              "      <td>0.000000</td>\n",
              "      <td>7.000000</td>\n",
              "      <td>184.137500</td>\n",
              "      <td>0.000000</td>\n",
              "      <td>0.014286</td>\n",
              "      <td>0.000000</td>\n",
              "      <td>0.000000</td>\n",
              "      <td>2.000000</td>\n",
              "      <td>2.000000</td>\n",
              "      <td>1.000000</td>\n",
              "      <td>2.000000</td>\n",
              "    </tr>\n",
              "    <tr>\n",
              "      <th>50%</th>\n",
              "      <td>1.000000</td>\n",
              "      <td>7.500000</td>\n",
              "      <td>0.000000</td>\n",
              "      <td>0.000000</td>\n",
              "      <td>18.000000</td>\n",
              "      <td>598.936905</td>\n",
              "      <td>0.003112</td>\n",
              "      <td>0.025156</td>\n",
              "      <td>0.000000</td>\n",
              "      <td>0.000000</td>\n",
              "      <td>2.000000</td>\n",
              "      <td>2.000000</td>\n",
              "      <td>3.000000</td>\n",
              "      <td>2.000000</td>\n",
              "    </tr>\n",
              "    <tr>\n",
              "      <th>75%</th>\n",
              "      <td>4.000000</td>\n",
              "      <td>93.256250</td>\n",
              "      <td>0.000000</td>\n",
              "      <td>0.000000</td>\n",
              "      <td>38.000000</td>\n",
              "      <td>1464.157213</td>\n",
              "      <td>0.016813</td>\n",
              "      <td>0.050000</td>\n",
              "      <td>0.000000</td>\n",
              "      <td>0.000000</td>\n",
              "      <td>3.000000</td>\n",
              "      <td>2.000000</td>\n",
              "      <td>4.000000</td>\n",
              "      <td>4.000000</td>\n",
              "    </tr>\n",
              "    <tr>\n",
              "      <th>max</th>\n",
              "      <td>27.000000</td>\n",
              "      <td>3398.750000</td>\n",
              "      <td>24.000000</td>\n",
              "      <td>2549.375000</td>\n",
              "      <td>705.000000</td>\n",
              "      <td>63973.522230</td>\n",
              "      <td>0.200000</td>\n",
              "      <td>0.200000</td>\n",
              "      <td>361.763742</td>\n",
              "      <td>1.000000</td>\n",
              "      <td>8.000000</td>\n",
              "      <td>13.000000</td>\n",
              "      <td>9.000000</td>\n",
              "      <td>20.000000</td>\n",
              "    </tr>\n",
              "  </tbody>\n",
              "</table>\n",
              "</div>"
            ],
            "text/plain": [
              "       Administrative  Administrative_Duration  ...        Region   TrafficType\n",
              "count    12330.000000             12330.000000  ...  12330.000000  12330.000000\n",
              "mean         2.315166                80.818611  ...      3.147364      4.069586\n",
              "std          3.321784               176.779107  ...      2.401591      4.025169\n",
              "min          0.000000                 0.000000  ...      1.000000      1.000000\n",
              "25%          0.000000                 0.000000  ...      1.000000      2.000000\n",
              "50%          1.000000                 7.500000  ...      3.000000      2.000000\n",
              "75%          4.000000                93.256250  ...      4.000000      4.000000\n",
              "max         27.000000              3398.750000  ...      9.000000     20.000000\n",
              "\n",
              "[8 rows x 14 columns]"
            ]
          },
          "metadata": {
            "tags": []
          },
          "execution_count": 10
        }
      ]
    },
    {
      "cell_type": "code",
      "metadata": {
        "id": "KEY_o435RDWY",
        "colab": {
          "base_uri": "https://localhost:8080/"
        },
        "outputId": "4aefa44b-fbcb-45e8-ceb6-9096abc5dbee"
      },
      "source": [
        "data_original.isnull().sum()\n",
        "# Le jeu de données ne présente aucune valeur manquante"
      ],
      "execution_count": 11,
      "outputs": [
        {
          "output_type": "execute_result",
          "data": {
            "text/plain": [
              "Administrative             0\n",
              "Administrative_Duration    0\n",
              "Informational              0\n",
              "Informational_Duration     0\n",
              "ProductRelated             0\n",
              "ProductRelated_Duration    0\n",
              "BounceRates                0\n",
              "ExitRates                  0\n",
              "PageValues                 0\n",
              "SpecialDay                 0\n",
              "Month                      0\n",
              "OperatingSystems           0\n",
              "Browser                    0\n",
              "Region                     0\n",
              "TrafficType                0\n",
              "VisitorType                0\n",
              "Weekend                    0\n",
              "Revenue                    0\n",
              "dtype: int64"
            ]
          },
          "metadata": {
            "tags": []
          },
          "execution_count": 11
        }
      ]
    },
    {
      "cell_type": "code",
      "metadata": {
        "id": "iV0f00CTRDWa",
        "colab": {
          "base_uri": "https://localhost:8080/"
        },
        "outputId": "52a094c6-29dd-43d6-e944-bf0c00e325d8"
      },
      "source": [
        "data_original.info()"
      ],
      "execution_count": 12,
      "outputs": [
        {
          "output_type": "stream",
          "text": [
            "<class 'pandas.core.frame.DataFrame'>\n",
            "RangeIndex: 12330 entries, 0 to 12329\n",
            "Data columns (total 18 columns):\n",
            " #   Column                   Non-Null Count  Dtype  \n",
            "---  ------                   --------------  -----  \n",
            " 0   Administrative           12330 non-null  int64  \n",
            " 1   Administrative_Duration  12330 non-null  float64\n",
            " 2   Informational            12330 non-null  int64  \n",
            " 3   Informational_Duration   12330 non-null  float64\n",
            " 4   ProductRelated           12330 non-null  int64  \n",
            " 5   ProductRelated_Duration  12330 non-null  float64\n",
            " 6   BounceRates              12330 non-null  float64\n",
            " 7   ExitRates                12330 non-null  float64\n",
            " 8   PageValues               12330 non-null  float64\n",
            " 9   SpecialDay               12330 non-null  float64\n",
            " 10  Month                    12330 non-null  object \n",
            " 11  OperatingSystems         12330 non-null  int64  \n",
            " 12  Browser                  12330 non-null  int64  \n",
            " 13  Region                   12330 non-null  int64  \n",
            " 14  TrafficType              12330 non-null  int64  \n",
            " 15  VisitorType              12330 non-null  object \n",
            " 16  Weekend                  12330 non-null  bool   \n",
            " 17  Revenue                  12330 non-null  bool   \n",
            "dtypes: bool(2), float64(7), int64(7), object(2)\n",
            "memory usage: 1.5+ MB\n"
          ],
          "name": "stdout"
        }
      ]
    },
    {
      "cell_type": "markdown",
      "metadata": {
        "id": "CgHrbEGZRDWb"
      },
      "source": [
        "# `Etude des variables de type numériques`\n",
        "\n",
        "Les attributs numériques sont les suivants:\n",
        "\n",
        "- **Administrative**\n",
        "- **Administrative_Duration**\n",
        "- **Informational**\n",
        "- **Informational_Duration**\n",
        "- **ProductRelated**\n",
        "- **ProductRelated_Duration**\n",
        "- **BounceRates**\n",
        "- **ExitRates**\n",
        "- **PageValues**\n",
        "- **SpecialDay**\n"
      ]
    },
    {
      "cell_type": "code",
      "metadata": {
        "id": "xMk3_P5JRDWc"
      },
      "source": [
        "# Liste des variables numériques\n",
        "numerical_var = ['Administrative','Administrative_Duration','Informational','Informational_Duration','ProductRelated',\n",
        "           'ProductRelated_Duration','BounceRates','ExitRates','PageValues','SpecialDay']"
      ],
      "execution_count": 13,
      "outputs": []
    },
    {
      "cell_type": "markdown",
      "metadata": {
        "id": "vyRO7t0KRDWd"
      },
      "source": [
        "### Matrice de corrélation des variables numériques entre elles"
      ]
    },
    {
      "cell_type": "code",
      "metadata": {
        "scrolled": false,
        "id": "Dn_gwhHvRDWe",
        "colab": {
          "base_uri": "https://localhost:8080/",
          "height": 559
        },
        "outputId": "38e09797-c63a-403e-d9b6-de083f64b233"
      },
      "source": [
        "plt.figure(figsize=(11,7))\n",
        "sns.heatmap(cbar=False, annot=True, data=data_original[numerical_var].corr(), cmap='coolwarm')\n",
        "plt.title('% Corelation Matrix')\n",
        "plt.show()"
      ],
      "execution_count": 14,
      "outputs": [
        {
          "output_type": "display_data",
          "data": {
            "image/png": "[encoded data removed]",
            "text/plain": [
              "<Figure size 792x504 with 1 Axes>"
            ]
          },
          "metadata": {
            "tags": [],
            "needs_background": "light"
          }
        }
      ]
    },
    {
      "cell_type": "markdown",
      "metadata": {
        "id": "fy-x6JHoRDWf"
      },
      "source": [
        "Il apparaît que les couples **('ProductRelated', 'ProductRelated_Duration')**, **('BounceRates', 'ExitRates')** sont fortement correlés et que les couples **_('Administrative','Administrative_Duration')_**, **_('Informational','Informational_Duration')_** le sont que très légérement.\n",
        "\n",
        "### Vérification de ces corrélations par des graphiques"
      ]
    },
    {
      "cell_type": "code",
      "metadata": {
        "id": "g4NS0aWuRDWi",
        "colab": {
          "base_uri": "https://localhost:8080/",
          "height": 582
        },
        "outputId": "643c5ec2-5e7a-4304-ecce-fba557764f4c"
      },
      "source": [
        "col_x = ['ProductRelated', 'BounceRates', 'Administrative', 'Informational']\n",
        "col_y = ['ProductRelated_Duration', 'ExitRates', 'Administrative_Duration', 'Informational_Duration' ]\n",
        "color = ['red', 'red', 'green', 'green']\n",
        "\n",
        "plt.figure(figsize=(20, 20))\n",
        "\n",
        "for i, col in enumerate(col_x):\n",
        "    plt.subplot(4,2,i+1)\n",
        "    x = data_original[col]\n",
        "    y = data_original[col_y[i]]\n",
        "    plt.plot(x,y,'o',color = color[i])\n",
        "    # création de la ligne de regression\n",
        "    plt.plot(np.unique(x), np.poly1d(np.polyfit(x,y,1))(np.unique(x)))\n",
        "    plt.xlabel(col_x[i])\n",
        "    plt.ylabel(col_y[i])"
      ],
      "execution_count": 15,
      "outputs": [
        {
          "output_type": "display_data",
          "data": {
            "image/png": "[encoded data removed]",
            "text/plain": [
              "<Figure size 1440x1440 with 4 Axes>"
            ]
          },
          "metadata": {
            "tags": [],
            "needs_background": "light"
          }
        }
      ]
    },
    {
      "cell_type": "markdown",
      "metadata": {
        "id": "qJ4kN3jURDWj"
      },
      "source": [
        "Les couples **('ProductRelated', 'ProductRelated_Duration')** et **('BounceRates', 'ExitRates')** sont effectivement très correlés, nous ne garderons qu'une variable de chaque couple, soit **'ProductRelated_Duration'** et **'BouceRates'**."
      ]
    },
    {
      "cell_type": "markdown",
      "metadata": {
        "id": "qiGnulRwRDWk"
      },
      "source": [
        "### Test de dépendance des variables numériques avec la variable cible catégorique avec l'ANOVA"
      ]
    },
    {
      "cell_type": "code",
      "metadata": {
        "id": "qW22M5IuRDWk",
        "colab": {
          "base_uri": "https://localhost:8080/"
        },
        "outputId": "8330fb87-2626-425b-b7f4-cd38751fa0ea"
      },
      "source": [
        "import statsmodels.api\n",
        "\n",
        "# Liste des couples (Variable_numerique ~ Variable_cible)\n",
        "liste = ['Administrative ~ Revenue', 'Administrative_Duration ~ Revenue', 'Informational ~ Revenue', 'Informational_Duration ~ Revenue',\n",
        "      'ProductRelated_Duration ~ Revenue', 'BounceRates ~ Revenue', 'PageValues ~ Revenue', 'SpecialDay ~ Revenue']\n",
        "\n",
        "for couple in liste:\n",
        "    resultat = statsmodels.formula.api.ols(couple, data=data_original).fit()\n",
        "    table = statsmodels.api.stats.anova_lm(resultat)\n",
        "    print(couple,'------------------->',': P-value = ',table.loc['Revenue','PR(>F)'],'\\n')"
      ],
      "execution_count": 16,
      "outputs": [
        {
          "output_type": "stream",
          "text": [
            "/usr/local/lib/python3.6/dist-packages/statsmodels/tools/_testing.py:19: FutureWarning: pandas.util.testing is deprecated. Use the functions in the public API at pandas.testing instead.\n",
            "  import pandas.util.testing as tm\n"
          ],
          "name": "stderr"
        },
        {
          "output_type": "stream",
          "text": [
            "Administrative ~ Revenue -------------------> : P-value =  3.519759837731935e-54 \n",
            "\n",
            "Administrative_Duration ~ Revenue -------------------> : P-value =  2.1465136347090738e-25 \n",
            "\n",
            "Informational ~ Revenue -------------------> : P-value =  3.1740343112085765e-26 \n",
            "\n",
            "Informational_Duration ~ Revenue -------------------> : P-value =  5.2828708606337516e-15 \n",
            "\n",
            "ProductRelated_Duration ~ Revenue -------------------> : P-value =  6.11533825336717e-65 \n",
            "\n",
            "BounceRates ~ Revenue -------------------> : P-value =  1.5941975384886717e-63 \n",
            "\n",
            "PageValues ~ Revenue -------------------> : P-value =  0.0 \n",
            "\n",
            "SpecialDay ~ Revenue -------------------> : P-value =  5.498934260139406e-20 \n",
            "\n"
          ],
          "name": "stdout"
        }
      ]
    },
    {
      "cell_type": "markdown",
      "metadata": {
        "id": "TYihqD7ERDWl"
      },
      "source": [
        "Avec une p-value inférieure à 5% soit 0.05 nous concluons que le couple de variable est significatif par rapport à la variable cible 'Revenue'. Il apparaît donc que les variables **`Administrative`**, **`Administrative_Duration`**, **`Informational`**, **`Informational_Duration`**, **`ProductRelated_Duration`**, **`BounceRates`**, **`PageValues`** et **`SpecialDay`** influent toutes sur la variable cible."
      ]
    },
    {
      "cell_type": "markdown",
      "metadata": {
        "id": "YwmxNunXRDWl"
      },
      "source": [
        "### **Etendue des classes de la variable cible 'Revenue'** sur l'effectif total de la population"
      ]
    },
    {
      "cell_type": "code",
      "metadata": {
        "id": "87mIowMxRDWm",
        "colab": {
          "base_uri": "https://localhost:8080/",
          "height": 406
        },
        "outputId": "28bd12ae-6d33-4fd5-8cdb-e387ee64ce72"
      },
      "source": [
        "# Graphique de  l'effectif de chaque classe de la variable cible 'Revenue'\n",
        "plt.figure(figsize=(10,6))\n",
        "sns.countplot(data=data_original,x='Revenue')\n",
        "plt.plot()"
      ],
      "execution_count": 17,
      "outputs": [
        {
          "output_type": "execute_result",
          "data": {
            "text/plain": [
              "[]"
            ]
          },
          "metadata": {
            "tags": []
          },
          "execution_count": 17
        },
        {
          "output_type": "display_data",
          "data": {
            "image/png": "[encoded data removed]",
            "text/plain": [
              "<Figure size 720x432 with 1 Axes>"
            ]
          },
          "metadata": {
            "tags": [],
            "needs_background": "light"
          }
        }
      ]
    },
    {
      "cell_type": "markdown",
      "metadata": {
        "id": "skmXazBXRDWm"
      },
      "source": [
        "### Boxplot des variables numériques par rapport aux classes de la varible cible 'Revenue'"
      ]
    },
    {
      "cell_type": "code",
      "metadata": {
        "scrolled": false,
        "id": "74_xYkJARDWm",
        "colab": {
          "base_uri": "https://localhost:8080/",
          "height": 1000
        },
        "outputId": "03de2ebf-7d08-4b5c-d158-8ccda0fb942b"
      },
      "source": [
        "numerical_var = ['Administrative', 'Administrative_Duration', 'Informational', 'Informational_Duration',\n",
        "           'ProductRelated_Duration', 'BounceRates', 'PageValues', 'SpecialDay']\n",
        "\n",
        "plt.figure(figsize=(20,20))\n",
        "for i, col in enumerate (numerical_var):\n",
        "    plt.subplot(4,2,i+1)\n",
        "    sns.boxplot(data=data_original,x='Revenue',y=col,palette='viridis')\n",
        "    plt.plot()"
      ],
      "execution_count": 18,
      "outputs": [
        {
          "output_type": "display_data",
          "data": {
            "image/png": "[encoded data removed]",
            "text/plain": [
              "<Figure size 1440x1440 with 8 Axes>"
            ]
          },
          "metadata": {
            "tags": [],
            "needs_background": "light"
          }
        }
      ]
    },
    {
      "cell_type": "markdown",
      "metadata": {
        "id": "wzcoOewhRDWn"
      },
      "source": [
        "**Après observation du graphique de l'étendu des classes de la cible 'Revenue' _(vaste étendu pour la classe 'False' et petit étendu pour la classe 'True)_, ces Boxplots qui nous renseignent sur la répartition des valeurs des différentes variables numériques dans les 2 classes de 'Revenue' nous confirment effectivement, de façon visuelle, les résultats de notre test d'ANOVA que sont la dépendance de la variable cible 'Revenue' avec toutes ces variables numériques.** "
      ]
    },
    {
      "cell_type": "markdown",
      "metadata": {
        "id": "hQLOeYxDRDWn"
      },
      "source": [
        "### Estimation de la densité de noyau de la variable cible 'Revenue' par rapport aux varaibles numériques"
      ]
    },
    {
      "cell_type": "code",
      "metadata": {
        "id": "SCKJRqrYRDWn",
        "colab": {
          "base_uri": "https://localhost:8080/",
          "height": 584
        },
        "outputId": "84447272-d7f9-4a23-9f06-f4b44ebc3e12"
      },
      "source": [
        "plt.figure(figsize=(20,20))\n",
        "for i, col in enumerate (numerical_var):\n",
        "    plt.subplot(4,4,i+1)\n",
        "    sns.stripplot(data=data_original,x='Revenue',y=col,palette='viridis')\n",
        "    #sns.kdeplot(data=data_original,x='Revenue',y=col,cmap='viridis',cbar=True)\n",
        "    plt.plot()"
      ],
      "execution_count": 19,
      "outputs": [
        {
          "output_type": "display_data",
          "data": {
            "image/png": "[encoded data removed]",
            "text/plain": [
              "<Figure size 1440x1440 with 8 Axes>"
            ]
          },
          "metadata": {
            "tags": [],
            "needs_background": "light"
          }
        }
      ]
    },
    {
      "cell_type": "markdown",
      "metadata": {
        "id": "c5g9bCF1RDWo"
      },
      "source": [
        "**L'estimation de la densité du noyau est Une autre façon visuelle d'observer la répartition des valeurs des différentes variables numériques dans les classes de la variable 'Revenue'**"
      ]
    },
    {
      "cell_type": "markdown",
      "metadata": {
        "id": "sT3j-eAPRDWp"
      },
      "source": [
        "# `Etude des variables catégorielles`\n",
        "\n",
        "Les attributs catégoriels sont les suivants:\n",
        "\n",
        "- **Month**\n",
        "- **OperatingSystems**\n",
        "- **Browser**\n",
        "- **Region**\n",
        "- **TrafficType**\n",
        "- **VisitorType**\n",
        "- **Weekend**\n",
        "- **Revenue**\n"
      ]
    },
    {
      "cell_type": "markdown",
      "metadata": {
        "id": "Uo_K0fUQRDWp"
      },
      "source": [
        "### Convertir les variables catégorielles en type 'category'"
      ]
    },
    {
      "cell_type": "code",
      "metadata": {
        "id": "gBT0YcEuRDWp"
      },
      "source": [
        "data_original['Month'] = data_original['Month'].astype('category')\n",
        "data_original['OperatingSystems'] = data_original['OperatingSystems'].astype('category')\n",
        "data_original['Browser'] = data_original['Browser'].astype('category')\n",
        "data_original['Region'] = data_original['Region'].astype('category')\n",
        "data_original['TrafficType'] = data_original['TrafficType'].astype('category')\n",
        "data_original['VisitorType'] = data_original['VisitorType'].astype('category')\n",
        "data_original['Weekend'] = data_original['Weekend'].astype('category')\n",
        "data_original['Revenue'] = data_original['Revenue'].astype('category')"
      ],
      "execution_count": 20,
      "outputs": []
    },
    {
      "cell_type": "markdown",
      "metadata": {
        "id": "HF79KPIFRDWq"
      },
      "source": [
        "### Tests de dépendance Chi2 des variables catégorielles avec la variable cible 'Revenue'"
      ]
    },
    {
      "cell_type": "code",
      "metadata": {
        "id": "QNZ2qC34RDWq",
        "colab": {
          "base_uri": "https://localhost:8080/"
        },
        "outputId": "f2916ea3-bf0c-4f4f-becd-957299381d6d"
      },
      "source": [
        "variables = ['Month','OperatingSystems','Browser','Region','TrafficType','VisitorType','Weekend']\n",
        "target = 'Revenue'\n",
        "\n",
        "pvalue = {}\n",
        "for var in variables:\n",
        "    cont = data_original[[var, target]].pivot_table(index=var,columns=target,aggfunc=len)\n",
        "    cont = cont.fillna(0)\n",
        "    st_chi2, st_p, st_dof, st_exp = st.chi2_contingency(cont)\n",
        "    pvalue[var] = st_p\n",
        "\n",
        "pvalue"
      ],
      "execution_count": 21,
      "outputs": [
        {
          "output_type": "execute_result",
          "data": {
            "text/plain": [
              "{'Browser': 0.00608754317955109,\n",
              " 'Month': 2.2387855164805443e-77,\n",
              " 'OperatingSystems': 1.4160941129614401e-13,\n",
              " 'Region': 0.3214249979076556,\n",
              " 'TrafficType': 1.652735258160153e-67,\n",
              " 'VisitorType': 4.269904152293867e-30,\n",
              " 'Weekend': 0.0012663251061221968}"
            ]
          },
          "metadata": {
            "tags": []
          },
          "execution_count": 21
        }
      ]
    },
    {
      "cell_type": "markdown",
      "metadata": {
        "id": "vNQURGPGRDWq"
      },
      "source": [
        "Avec une p-value inférieure à 5% soit 0.05 nous concluons que la variable catégorielle est significative par rapport à la variable cible 'Revenue'. **La variable _'Region'_ a une p-value > 0.05, donc on peut conclure qu'elle n'a pas d'influence sur la variable cible**. Il apparaît donc que les variables **`Month`**, **`OperatingSystems`**, **`Browser`**, **`TrafficType`**, **`VisitorType`**, **`Weekend`**, influent sur **_'Revenue'_** et nous ne garderons que celles-là."
      ]
    },
    {
      "cell_type": "markdown",
      "metadata": {
        "id": "IiHnCcOvRDWr"
      },
      "source": [
        "### Variables catégorielles Vs Variable cible 'Revenue':\n",
        "\n",
        "**Diagramme en barres séparées, en effectifs.**\n"
      ]
    },
    {
      "cell_type": "code",
      "metadata": {
        "id": "Cp0qeR24RDWr",
        "colab": {
          "base_uri": "https://localhost:8080/",
          "height": 797
        },
        "outputId": "afb68bd2-aa0e-4da3-bb01-b0b52105e236"
      },
      "source": [
        "# grouped bar chart\n",
        "\n",
        "from bokeh.io import output_notebook, show\n",
        "from bokeh.plotting import figure\n",
        "from bokeh.core.properties import value\n",
        "from bokeh.transform import dodge\n",
        "from bokeh.layouts import gridplot\n",
        "output_notebook()\n",
        "\n",
        "categorical_var = ['Month','OperatingSystems','Browser','TrafficType','VisitorType','Weekend']\n",
        "grouped_bar = [] \n",
        "\n",
        "for i in range (len(categorical_var)):\n",
        "    cont = data_original[[categorical_var[i], 'Revenue']].pivot_table(index=categorical_var[i],columns='Revenue',aggfunc=len)\n",
        "    \n",
        "    # data\n",
        "    categories = cont.index.to_list()\n",
        "    categories = [str(ind) for ind in categories]\n",
        "    grouped_bar_df = pd.DataFrame({'categories' : categories,\n",
        "                                   'False': cont[False].to_list(),\n",
        "                                   'True': cont[True].to_list()})\n",
        "\n",
        "    max1 = max(cont[False].to_list())\n",
        "    max2 = max(cont[True].to_list())\n",
        "    maximum = max((max1, max2))\n",
        "\n",
        "\n",
        "    # plot\n",
        "    grouped_bar.append(None)\n",
        "    grouped_bar[i] = figure(x_range=categories, y_range=(0, maximum+250), plot_height=250)\n",
        "\n",
        "    # offsets bars / bar locations on axis\n",
        "    dodge1 = dodge('categories', -0.15, range=grouped_bar[i].x_range)\n",
        "    dodge3 = dodge('categories',  0.10, range=grouped_bar[i].x_range)\n",
        "\n",
        "    grouped_bar[i].vbar(x=dodge1, top='False', width=0.2, source=grouped_bar_df, color='olive', legend_label='False')\n",
        "    grouped_bar[i].vbar(x=dodge3, top='True', width=0.2, source=grouped_bar_df, color='indigo', legend_label='True')\n",
        "\n",
        "    # format legend.legend.location = 'top_left'\n",
        "    grouped_bar[i].legend.orientation = 'horizontal'\n",
        "\n",
        "grid = gridplot([[grouped_bar[0], grouped_bar[1]], \n",
        "                 [grouped_bar[2], grouped_bar[3]],\n",
        "                 [grouped_bar[4], grouped_bar[5]]], )\n",
        "\n",
        "show(grid)"
      ],
      "execution_count": 22,
      "outputs": [
        {
          "output_type": "display_data",
          "data": {
            "application/javascript": [
              "\n",
              "(function(root) {\n",
              "  function now() {\n",
              "    return new Date();\n",
              "  }\n",
              "\n",
              "  var force = true;\n",
              "\n",
              "  if (typeof root._bokeh_onload_callbacks === \"undefined\" || force === true) {\n",
              "    root._bokeh_onload_callbacks = [];\n",
              "    root._bokeh_is_loading = undefined;\n",
              "  }\n",
              "\n",
              "  var JS_MIME_TYPE = 'application/javascript';\n",
              "  var HTML_MIME_TYPE = 'text/html';\n",
              "  var EXEC_MIME_TYPE = 'application/vnd.bokehjs_exec.v0+json';\n",
              "  var CLASS_NAME = 'output_bokeh rendered_html';\n",
              "\n",
              "  /**\n",
              "   * Render data to the DOM node\n",
              "   */\n",
              "  function render(props, node) {\n",
              "    var script = document.createElement(\"script\");\n",
              "    node.appendChild(script);\n",
              "  }\n",
              "\n",
              "  /**\n",
              "   * Handle when an output is cleared or removed\n",
              "   */\n",
              "  function handleClearOutput(event, handle) {\n",
              "    var cell = handle.cell;\n",
              "\n",
              "    var id = cell.output_area._bokeh_element_id;\n",
              "    var server_id = cell.output_area._bokeh_server_id;\n",
              "    // Clean up Bokeh references\n",
              "    if (id != null && id in Bokeh.index) {\n",
              "      Bokeh.index[id].model.document.clear();\n",
              "      delete Bokeh.index[id];\n",
              "    }\n",
              "\n",
              "    if (server_id !== undefined) {\n",
              "      // Clean up Bokeh references\n",
              "      var cmd = \"from bokeh.io.state import curstate; print(curstate().uuid_to_server['\" + server_id + \"'].get_sessions()[0].document.roots[0]._id)\";\n",
              "      cell.notebook.kernel.execute(cmd, {\n",
              "        iopub: {\n",
              "          output: function(msg) {\n",
              "            var id = msg.content.text.trim();\n",
              "            if (id in Bokeh.index) {\n",
              "              Bokeh.index[id].model.document.clear();\n",
              "              delete Bokeh.index[id];\n",
              "            }\n",
              "          }\n",
              "        }\n",
              "      });\n",
              "      // Destroy server and session\n",
              "      var cmd = \"import bokeh.io.notebook as ion; ion.destroy_server('\" + server_id + \"')\";\n",
              "      cell.notebook.kernel.execute(cmd);\n",
              "    }\n",
              "  }\n",
              "\n",
              "  /**\n",
              "   * Handle when a new output is added\n",
              "   */\n",
              "  function handleAddOutput(event, handle) {\n",
              "    var output_area = handle.output_area;\n",
              "    var output = handle.output;\n",
              "\n",
              "    // limit handleAddOutput to display_data with EXEC_MIME_TYPE content only\n",
              "    if ((output.output_type != \"display_data\") || (!output.data.hasOwnProperty(EXEC_MIME_TYPE))) {\n",
              "      return\n",
              "    }\n",
              "\n",
              "    var toinsert = output_area.element.find(\".\" + CLASS_NAME.split(' ')[0]);\n",
              "\n",
              "    if (output.metadata[EXEC_MIME_TYPE][\"id\"] !== undefined) {\n",
              "      toinsert[toinsert.length - 1].firstChild.textContent = output.data[JS_MIME_TYPE];\n",
              "      // store reference to embed id on output_area\n",
              "      output_area._bokeh_element_id = output.metadata[EXEC_MIME_TYPE][\"id\"];\n",
              "    }\n",
              "    if (output.metadata[EXEC_MIME_TYPE][\"server_id\"] !== undefined) {\n",
              "      var bk_div = document.createElement(\"div\");\n",
              "      bk_div.innerHTML = output.data[HTML_MIME_TYPE];\n",
              "      var script_attrs = bk_div.children[0].attributes;\n",
              "      for (var i = 0; i < script_attrs.length; i++) {\n",
              "        toinsert[toinsert.length - 1].firstChild.setAttribute(script_attrs[i].name, script_attrs[i].value);\n",
              "        toinsert[toinsert.length - 1].firstChild.textContent = bk_div.children[0].textContent\n",
              "      }\n",
              "      // store reference to server id on output_area\n",
              "      output_area._bokeh_server_id = output.metadata[EXEC_MIME_TYPE][\"server_id\"];\n",
              "    }\n",
              "  }\n",
              "\n",
              "  function register_renderer(events, OutputArea) {\n",
              "\n",
              "    function append_mime(data, metadata, element) {\n",
              "      // create a DOM node to render to\n",
              "      var toinsert = this.create_output_subarea(\n",
              "        metadata,\n",
              "        CLASS_NAME,\n",
              "        EXEC_MIME_TYPE\n",
              "      );\n",
              "      this.keyboard_manager.register_events(toinsert);\n",
              "      // Render to node\n",
              "      var props = {data: data, metadata: metadata[EXEC_MIME_TYPE]};\n",
              "      render(props, toinsert[toinsert.length - 1]);\n",
              "      element.append(toinsert);\n",
              "      return toinsert\n",
              "    }\n",
              "\n",
              "    /* Handle when an output is cleared or removed */\n",
              "    events.on('clear_output.CodeCell', handleClearOutput);\n",
              "    events.on('delete.Cell', handleClearOutput);\n",
              "\n",
              "    /* Handle when a new output is added */\n",
              "    events.on('output_added.OutputArea', handleAddOutput);\n",
              "\n",
              "    /**\n",
              "     * Register the mime type and append_mime function with output_area\n",
              "     */\n",
              "    OutputArea.prototype.register_mime_type(EXEC_MIME_TYPE, append_mime, {\n",
              "      /* Is output safe? */\n",
              "      safe: true,\n",
              "      /* Index of renderer in `output_area.display_order` */\n",
              "      index: 0\n",
              "    });\n",
              "  }\n",
              "\n",
              "  // register the mime type if in Jupyter Notebook environment and previously unregistered\n",
              "  if (root.Jupyter !== undefined) {\n",
              "    var events = require('base/js/events');\n",
              "    var OutputArea = require('notebook/js/outputarea').OutputArea;\n",
              "\n",
              "    if (OutputArea.prototype.mime_types().indexOf(EXEC_MIME_TYPE) == -1) {\n",
              "      register_renderer(events, OutputArea);\n",
              "    }\n",
              "  }\n",
              "\n",
              "  \n",
              "  if (typeof (root._bokeh_timeout) === \"undefined\" || force === true) {\n",
              "    root._bokeh_timeout = Date.now() + 5000;\n",
              "    root._bokeh_failed_load = false;\n",
              "  }\n",
              "\n",
              "  var NB_LOAD_WARNING = {'data': {'text/html':\n",
              "     \"<div style='background-color: #fdd'>\\n\"+\n",
              "     \"<p>\\n\"+\n",
              "     \"BokehJS does not appear to have successfully loaded. If loading BokehJS from CDN, this \\n\"+\n",
              "     \"may be due to a slow or bad network connection. Possible fixes:\\n\"+\n",
              "     \"</p>\\n\"+\n",
              "     \"<ul>\\n\"+\n",
              "     \"<li>re-rerun `output_notebook()` to attempt to load from CDN again, or</li>\\n\"+\n",
              "     \"<li>use INLINE resources instead, as so:</li>\\n\"+\n",
              "     \"</ul>\\n\"+\n",
              "     \"<code>\\n\"+\n",
              "     \"from bokeh.resources import INLINE\\n\"+\n",
              "     \"output_notebook(resources=INLINE)\\n\"+\n",
              "     \"</code>\\n\"+\n",
              "     \"</div>\"}};\n",
              "\n",
              "  function display_loaded() {\n",
              "    var el = document.getElementById(null);\n",
              "    if (el != null) {\n",
              "      el.textContent = \"BokehJS is loading...\";\n",
              "    }\n",
              "    if (root.Bokeh !== undefined) {\n",
              "      if (el != null) {\n",
              "        el.textContent = \"BokehJS \" + root.Bokeh.version + \" successfully loaded.\";\n",
              "      }\n",
              "    } else if (Date.now() < root._bokeh_timeout) {\n",
              "      setTimeout(display_loaded, 100)\n",
              "    }\n",
              "  }\n",
              "\n",
              "\n",
              "  function run_callbacks() {\n",
              "    try {\n",
              "      root._bokeh_onload_callbacks.forEach(function(callback) {\n",
              "        if (callback != null)\n",
              "          callback();\n",
              "      });\n",
              "    } finally {\n",
              "      delete root._bokeh_onload_callbacks\n",
              "    }\n",
              "    console.debug(\"Bokeh: all callbacks have finished\");\n",
              "  }\n",
              "\n",
              "  function load_libs(css_urls, js_urls, callback) {\n",
              "    if (css_urls == null) css_urls = [];\n",
              "    if (js_urls == null) js_urls = [];\n",
              "\n",
              "    root._bokeh_onload_callbacks.push(callback);\n",
              "    if (root._bokeh_is_loading > 0) {\n",
              "      console.debug(\"Bokeh: BokehJS is being loaded, scheduling callback at\", now());\n",
              "      return null;\n",
              "    }\n",
              "    if (js_urls == null || js_urls.length === 0) {\n",
              "      run_callbacks();\n",
              "      return null;\n",
              "    }\n",
              "    console.debug(\"Bokeh: BokehJS not loaded, scheduling load and callback at\", now());\n",
              "    root._bokeh_is_loading = css_urls.length + js_urls.length;\n",
              "\n",
              "    function on_load() {\n",
              "      root._bokeh_is_loading--;\n",
              "      if (root._bokeh_is_loading === 0) {\n",
              "        console.debug(\"Bokeh: all BokehJS libraries/stylesheets loaded\");\n",
              "        run_callbacks()\n",
              "      }\n",
              "    }\n",
              "\n",
              "    function on_error() {\n",
              "      console.error(\"failed to load \" + url);\n",
              "    }\n",
              "\n",
              "    for (var i = 0; i < css_urls.length; i++) {\n",
              "      var url = css_urls[i];\n",
              "      const element = document.createElement(\"link\");\n",
              "      element.onload = on_load;\n",
              "      element.onerror = on_error;\n",
              "      element.rel = \"stylesheet\";\n",
              "      element.type = \"text/css\";\n",
              "      element.href = url;\n",
              "      console.debug(\"Bokeh: injecting link tag for BokehJS stylesheet: \", url);\n",
              "      document.body.appendChild(element);\n",
              "    }\n",
              "\n",
              "    const hashes = {\"https://cdn.bokeh.org/bokeh/release/bokeh-2.1.1.min.js\": \"kLr4fYcqcSpbuI95brIH3vnnYCquzzSxHPU6XGQCIkQRGJwhg0StNbj1eegrHs12\", \"https://cdn.bokeh.org/bokeh/release/bokeh-widgets-2.1.1.min.js\": \"xIGPmVtaOm+z0BqfSOMn4lOR6ciex448GIKG4eE61LsAvmGj48XcMQZtKcE/UXZe\", \"https://cdn.bokeh.org/bokeh/release/bokeh-tables-2.1.1.min.js\": \"Dc9u1wF/0zApGIWoBbH77iWEHtdmkuYWG839Uzmv8y8yBLXebjO9ZnERsde5Ln/P\", \"https://cdn.bokeh.org/bokeh/release/bokeh-gl-2.1.1.min.js\": \"cT9JaBz7GiRXdENrJLZNSC6eMNF3nh3fa5fTF51Svp+ukxPdwcU5kGXGPBgDCa2j\"};\n",
              "\n",
              "    for (var i = 0; i < js_urls.length; i++) {\n",
              "      var url = js_urls[i];\n",
              "      var element = document.createElement('script');\n",
              "      element.onload = on_load;\n",
              "      element.onerror = on_error;\n",
              "      element.async = false;\n",
              "      element.src = url;\n",
              "      if (url in hashes) {\n",
              "        element.crossOrigin = \"anonymous\";\n",
              "        element.integrity = \"sha384-\" + hashes[url];\n",
              "      }\n",
              "      console.debug(\"Bokeh: injecting script tag for BokehJS library: \", url);\n",
              "      document.head.appendChild(element);\n",
              "    }\n",
              "  };\n",
              "\n",
              "  function inject_raw_css(css) {\n",
              "    const element = document.createElement(\"style\");\n",
              "    element.appendChild(document.createTextNode(css));\n",
              "    document.body.appendChild(element);\n",
              "  }\n",
              "\n",
              "  \n",
              "  var js_urls = [\"https://cdn.bokeh.org/bokeh/release/bokeh-2.1.1.min.js\", \"https://cdn.bokeh.org/bokeh/release/bokeh-widgets-2.1.1.min.js\", \"https://cdn.bokeh.org/bokeh/release/bokeh-tables-2.1.1.min.js\", \"https://cdn.bokeh.org/bokeh/release/bokeh-gl-2.1.1.min.js\"];\n",
              "  var css_urls = [];\n",
              "  \n",
              "\n",
              "  var inline_js = [\n",
              "    function(Bokeh) {\n",
              "      Bokeh.set_log_level(\"info\");\n",
              "    },\n",
              "    function(Bokeh) {\n",
              "    \n",
              "    \n",
              "    }\n",
              "  ];\n",
              "\n",
              "  function run_inline_js() {\n",
              "    \n",
              "    if (root.Bokeh !== undefined || force === true) {\n",
              "      \n",
              "    for (var i = 0; i < inline_js.length; i++) {\n",
              "      inline_js[i].call(root, root.Bokeh);\n",
              "    }\n",
              "    } else if (Date.now() < root._bokeh_timeout) {\n",
              "      setTimeout(run_inline_js, 100);\n",
              "    } else if (!root._bokeh_failed_load) {\n",
              "      console.log(\"Bokeh: BokehJS failed to load within specified timeout.\");\n",
              "      root._bokeh_failed_load = true;\n",
              "    } else if (force !== true) {\n",
              "      var cell = $(document.getElementById(null)).parents('.cell').data().cell;\n",
              "      cell.output_area.append_execute_result(NB_LOAD_WARNING)\n",
              "    }\n",
              "\n",
              "  }\n",
              "\n",
              "  if (root._bokeh_is_loading === 0) {\n",
              "    console.debug(\"Bokeh: BokehJS loaded, going straight to plotting\");\n",
              "    run_inline_js();\n",
              "  } else {\n",
              "    load_libs(css_urls, js_urls, function() {\n",
              "      console.debug(\"Bokeh: BokehJS plotting callback run at\", now());\n",
              "      run_inline_js();\n",
              "    });\n",
              "  }\n",
              "}(window));"
            ],
            "application/vnd.bokehjs_load.v0+json": "\n(function(root) {\n  function now() {\n    return new Date();\n  }\n\n  var force = true;\n\n  if (typeof root._bokeh_onload_callbacks === \"undefined\" || force === true) {\n    root._bokeh_onload_callbacks = [];\n    root._bokeh_is_loading = undefined;\n  }\n\n  \n\n  \n  if (typeof (root._bokeh_timeout) === \"undefined\" || force === true) {\n    root._bokeh_timeout = Date.now() + 5000;\n    root._bokeh_failed_load = false;\n  }\n\n  var NB_LOAD_WARNING = {'data': {'text/html':\n     \"<div style='background-color: #fdd'>\\n\"+\n     \"<p>\\n\"+\n     \"BokehJS does not appear to have successfully loaded. If loading BokehJS from CDN, this \\n\"+\n     \"may be due to a slow or bad network connection. Possible fixes:\\n\"+\n     \"</p>\\n\"+\n     \"<ul>\\n\"+\n     \"<li>re-rerun `output_notebook()` to attempt to load from CDN again, or</li>\\n\"+\n     \"<li>use INLINE resources instead, as so:</li>\\n\"+\n     \"</ul>\\n\"+\n     \"<code>\\n\"+\n     \"from bokeh.resources import INLINE\\n\"+\n     \"output_notebook(resources=INLINE)\\n\"+\n     \"</code>\\n\"+\n     \"</div>\"}};\n\n  function display_loaded() {\n    var el = document.getElementById(null);\n    if (el != null) {\n      el.textContent = \"BokehJS is loading...\";\n    }\n    if (root.Bokeh !== undefined) {\n      if (el != null) {\n        el.textContent = \"BokehJS \" + root.Bokeh.version + \" successfully loaded.\";\n      }\n    } else if (Date.now() < root._bokeh_timeout) {\n      setTimeout(display_loaded, 100)\n    }\n  }\n\n\n  function run_callbacks() {\n    try {\n      root._bokeh_onload_callbacks.forEach(function(callback) {\n        if (callback != null)\n          callback();\n      });\n    } finally {\n      delete root._bokeh_onload_callbacks\n    }\n    console.debug(\"Bokeh: all callbacks have finished\");\n  }\n\n  function load_libs(css_urls, js_urls, callback) {\n    if (css_urls == null) css_urls = [];\n    if (js_urls == null) js_urls = [];\n\n    root._bokeh_onload_callbacks.push(callback);\n    if (root._bokeh_is_loading > 0) {\n      console.debug(\"Bokeh: BokehJS is being loaded, scheduling callback at\", now());\n      return null;\n    }\n    if (js_urls == null || js_urls.length === 0) {\n      run_callbacks();\n      return null;\n    }\n    console.debug(\"Bokeh: BokehJS not loaded, scheduling load and callback at\", now());\n    root._bokeh_is_loading = css_urls.length + js_urls.length;\n\n    function on_load() {\n      root._bokeh_is_loading--;\n      if (root._bokeh_is_loading === 0) {\n        console.debug(\"Bokeh: all BokehJS libraries/stylesheets loaded\");\n        run_callbacks()\n      }\n    }\n\n    function on_error() {\n      console.error(\"failed to load \" + url);\n    }\n\n    for (var i = 0; i < css_urls.length; i++) {\n      var url = css_urls[i];\n      const element = document.createElement(\"link\");\n      element.onload = on_load;\n      element.onerror = on_error;\n      element.rel = \"stylesheet\";\n      element.type = \"text/css\";\n      element.href = url;\n      console.debug(\"Bokeh: injecting link tag for BokehJS stylesheet: \", url);\n      document.body.appendChild(element);\n    }\n\n    const hashes = {\"https://cdn.bokeh.org/bokeh/release/bokeh-2.1.1.min.js\": \"kLr4fYcqcSpbuI95brIH3vnnYCquzzSxHPU6XGQCIkQRGJwhg0StNbj1eegrHs12\", \"https://cdn.bokeh.org/bokeh/release/bokeh-widgets-2.1.1.min.js\": \"xIGPmVtaOm+z0BqfSOMn4lOR6ciex448GIKG4eE61LsAvmGj48XcMQZtKcE/UXZe\", \"https://cdn.bokeh.org/bokeh/release/bokeh-tables-2.1.1.min.js\": \"Dc9u1wF/0zApGIWoBbH77iWEHtdmkuYWG839Uzmv8y8yBLXebjO9ZnERsde5Ln/P\", \"https://cdn.bokeh.org/bokeh/release/bokeh-gl-2.1.1.min.js\": \"cT9JaBz7GiRXdENrJLZNSC6eMNF3nh3fa5fTF51Svp+ukxPdwcU5kGXGPBgDCa2j\"};\n\n    for (var i = 0; i < js_urls.length; i++) {\n      var url = js_urls[i];\n      var element = document.createElement('script');\n      element.onload = on_load;\n      element.onerror = on_error;\n      element.async = false;\n      element.src = url;\n      if (url in hashes) {\n        element.crossOrigin = \"anonymous\";\n        element.integrity = \"sha384-\" + hashes[url];\n      }\n      console.debug(\"Bokeh: injecting script tag for BokehJS library: \", url);\n      document.head.appendChild(element);\n    }\n  };\n\n  function inject_raw_css(css) {\n    const element = document.createElement(\"style\");\n    element.appendChild(document.createTextNode(css));\n    document.body.appendChild(element);\n  }\n\n  \n  var js_urls = [\"https://cdn.bokeh.org/bokeh/release/bokeh-2.1.1.min.js\", \"https://cdn.bokeh.org/bokeh/release/bokeh-widgets-2.1.1.min.js\", \"https://cdn.bokeh.org/bokeh/release/bokeh-tables-2.1.1.min.js\", \"https://cdn.bokeh.org/bokeh/release/bokeh-gl-2.1.1.min.js\"];\n  var css_urls = [];\n  \n\n  var inline_js = [\n    function(Bokeh) {\n      Bokeh.set_log_level(\"info\");\n    },\n    function(Bokeh) {\n    \n    \n    }\n  ];\n\n  function run_inline_js() {\n    \n    if (root.Bokeh !== undefined || force === true) {\n      \n    for (var i = 0; i < inline_js.length; i++) {\n      inline_js[i].call(root, root.Bokeh);\n    }\n    } else if (Date.now() < root._bokeh_timeout) {\n      setTimeout(run_inline_js, 100);\n    } else if (!root._bokeh_failed_load) {\n      console.log(\"Bokeh: BokehJS failed to load within specified timeout.\");\n      root._bokeh_failed_load = true;\n    } else if (force !== true) {\n      var cell = $(document.getElementById(null)).parents('.cell').data().cell;\n      cell.output_area.append_execute_result(NB_LOAD_WARNING)\n    }\n\n  }\n\n  if (root._bokeh_is_loading === 0) {\n    console.debug(\"Bokeh: BokehJS loaded, going straight to plotting\");\n    run_inline_js();\n  } else {\n    load_libs(css_urls, js_urls, function() {\n      console.debug(\"Bokeh: BokehJS plotting callback run at\", now());\n      run_inline_js();\n    });\n  }\n}(window));"
          },
          "metadata": {
            "tags": []
          }
        },
        {
          "output_type": "display_data",
          "data": {
            "text/html": [
              "\n",
              "\n",
              "\n",
              "\n",
              "\n",
              "\n",
              "  <div class=\"bk-root\" id=\"473e286d-639b-4c57-8b6f-0361f71067cc\" data-root-id=\"1478\"></div>\n"
            ]
          },
          "metadata": {
            "tags": []
          }
        },
        {
          "output_type": "display_data",
          "data": {
            "application/javascript": [
              "(function(root) {\n",
              "  function embed_document(root) {\n",
              "    \n",
              "  var docs_json = {\"803e75c7-8d85-4cc8-b483-dbe3d9111201\":{\"roots\":{\"references\":[{\"attributes\":{\"children\":[{\"id\":\"1477\"},{\"id\":\"1475\"}]},\"id\":\"1478\",\"type\":\"Column\"},{\"attributes\":{},\"id\":\"1218\",\"type\":\"PanTool\"},{\"attributes\":{},\"id\":\"1179\",\"type\":\"UnionRenderers\"},{\"attributes\":{},\"id\":\"1219\",\"type\":\"WheelZoomTool\"},{\"attributes\":{\"data\":{\"False\":[1272,69,9081],\"True\":[422,16,1470],\"categories\":[\"New_Visitor\",\"Other\",\"Returning_Visitor\"],\"index\":[0,1,2]},\"selected\":{\"id\":\"1314\"},\"selection_policy\":{\"id\":\"1313\"}},\"id\":\"1301\",\"type\":\"ColumnDataSource\"},{\"attributes\":{},\"id\":\"1180\",\"type\":\"Selection\"},{\"attributes\":{\"overlay\":{\"id\":\"1224\"}},\"id\":\"1220\",\"type\":\"BoxZoomTool\"},{\"attributes\":{\"items\":[{\"id\":\"1183\"},{\"id\":\"1201\"}],\"orientation\":\"horizontal\"},\"id\":\"1182\",\"type\":\"Legend\"},{\"attributes\":{\"range\":{\"id\":\"1270\"},\"value\":0.1},\"id\":\"1300\",\"type\":\"Dodge\"},{\"attributes\":{},\"id\":\"1221\",\"type\":\"SaveTool\"},{\"attributes\":{\"end\":8303},\"id\":\"1339\",\"type\":\"Range1d\"},{\"attributes\":{\"label\":{\"value\":\"False\"},\"renderers\":[{\"id\":\"1171\"}]},\"id\":\"1183\",\"type\":\"LegendItem\"},{\"attributes\":{},\"id\":\"1222\",\"type\":\"ResetTool\"},{\"attributes\":{\"data\":{\"False\":{\"__ndarray__\":\"AAAAAABioEAAAAAAAFK6QAAAAAAAAFlAAAAAAADwgkAAAAAAANB3QAAAAAAAQGNAAAAAAACARUAAAAAAAIBcQAAAAAAAAPA/AAAAAABgYEAAAAAAAAAUQAAAAAAAABxAAAAAAACARkA=\",\"dtype\":\"float64\",\"order\":\"little\",\"shape\":[13]},\"True\":{\"__ndarray__\":\"AAAAAADQdkAAAAAAAByTQAAAAAAAABRAAAAAAABAYEAAAAAAAIBVQAAAAAAAADRAAAAAAAAAGEAAAAAAAAA1QAAAAAAAAPh/AAAAAAAAQEAAAAAAAADwPwAAAAAAAAhAAAAAAAAAMEA=\",\"dtype\":\"float64\",\"order\":\"little\",\"shape\":[13]},\"categories\":[\"1\",\"2\",\"3\",\"4\",\"5\",\"6\",\"7\",\"8\",\"9\",\"10\",\"11\",\"12\",\"13\"],\"index\":[0,1,2,3,4,5,6,7,8,9,10,11,12]},\"selected\":{\"id\":\"1199\"},\"selection_policy\":{\"id\":\"1198\"}},\"id\":\"1184\",\"type\":\"ColumnDataSource\"},{\"attributes\":{},\"id\":\"1223\",\"type\":\"HelpTool\"},{\"attributes\":{},\"id\":\"1285\",\"type\":\"PanTool\"},{\"attributes\":{\"fill_alpha\":{\"value\":0.1},\"fill_color\":{\"value\":\"indigo\"},\"line_alpha\":{\"value\":0.1},\"line_color\":{\"value\":\"indigo\"},\"top\":{\"field\":\"True\"},\"width\":{\"value\":0.2},\"x\":{\"field\":\"categories\",\"transform\":{\"id\":\"1166\"}}},\"id\":\"1187\",\"type\":\"VBar\"},{\"attributes\":{\"active_drag\":\"auto\",\"active_inspect\":\"auto\",\"active_multi\":null,\"active_scroll\":\"auto\",\"active_tap\":\"auto\",\"tools\":[{\"id\":\"1218\"},{\"id\":\"1219\"},{\"id\":\"1220\"},{\"id\":\"1221\"},{\"id\":\"1222\"},{\"id\":\"1223\"}]},\"id\":\"1225\",\"type\":\"Toolbar\"},{\"attributes\":{\"fill_color\":{\"value\":\"indigo\"},\"line_color\":{\"value\":\"indigo\"},\"top\":{\"field\":\"True\"},\"width\":{\"value\":0.2},\"x\":{\"field\":\"categories\",\"transform\":{\"id\":\"1166\"}}},\"id\":\"1186\",\"type\":\"VBar\"},{\"attributes\":{\"data_source\":{\"id\":\"1184\"},\"glyph\":{\"id\":\"1186\"},\"hover_glyph\":null,\"muted_glyph\":null,\"nonselection_glyph\":{\"id\":\"1187\"},\"selection_glyph\":null,\"view\":{\"id\":\"1189\"}},\"id\":\"1188\",\"type\":\"GlyphRenderer\"},{\"attributes\":{},\"id\":\"1286\",\"type\":\"WheelZoomTool\"},{\"attributes\":{\"axis\":{\"id\":\"1278\"},\"ticker\":null},\"id\":\"1280\",\"type\":\"Grid\"},{\"attributes\":{},\"id\":\"1198\",\"type\":\"UnionRenderers\"},{\"attributes\":{},\"id\":\"1290\",\"type\":\"HelpTool\"},{\"attributes\":{\"overlay\":{\"id\":\"1291\"}},\"id\":\"1287\",\"type\":\"BoxZoomTool\"},{\"attributes\":{},\"id\":\"1288\",\"type\":\"SaveTool\"},{\"attributes\":{\"formatter\":{\"id\":\"1309\"},\"ticker\":{\"id\":\"1279\"}},\"id\":\"1278\",\"type\":\"CategoricalAxis\"},{\"attributes\":{\"source\":{\"id\":\"1184\"}},\"id\":\"1189\",\"type\":\"CDSView\"},{\"attributes\":{\"label\":{\"value\":\"True\"},\"renderers\":[{\"id\":\"1255\"}]},\"id\":\"1268\",\"type\":\"LegendItem\"},{\"attributes\":{},\"id\":\"1274\",\"type\":\"CategoricalScale\"},{\"attributes\":{},\"id\":\"1014\",\"type\":\"BasicTicker\"},{\"attributes\":{\"children\":[[{\"id\":\"1001\"},0,0],[{\"id\":\"1068\"},0,1],[{\"id\":\"1135\"},1,0],[{\"id\":\"1202\"},1,1],[{\"id\":\"1269\"},2,0],[{\"id\":\"1336\"},2,1]]},\"id\":\"1475\",\"type\":\"GridBox\"},{\"attributes\":{},\"id\":\"1289\",\"type\":\"ResetTool\"},{\"attributes\":{\"bottom_units\":\"screen\",\"fill_alpha\":0.5,\"fill_color\":\"lightgrey\",\"left_units\":\"screen\",\"level\":\"overlay\",\"line_alpha\":1.0,\"line_color\":\"black\",\"line_dash\":[4,4],\"line_width\":2,\"right_units\":\"screen\",\"top_units\":\"screen\"},\"id\":\"1224\",\"type\":\"BoxAnnotation\"},{\"attributes\":{},\"id\":\"1011\",\"type\":\"CategoricalTicker\"},{\"attributes\":{},\"id\":\"1199\",\"type\":\"Selection\"},{\"attributes\":{\"formatter\":{\"id\":\"1041\"},\"ticker\":{\"id\":\"1011\"}},\"id\":\"1010\",\"type\":\"CategoricalAxis\"},{\"attributes\":{\"label\":{\"value\":\"True\"},\"renderers\":[{\"id\":\"1188\"}]},\"id\":\"1201\",\"type\":\"LegendItem\"},{\"attributes\":{\"fill_alpha\":{\"value\":0.1},\"fill_color\":{\"value\":\"olive\"},\"line_alpha\":{\"value\":0.1},\"line_color\":{\"value\":\"olive\"},\"top\":{\"field\":\"False\"},\"width\":{\"value\":0.2},\"x\":{\"field\":\"categories\",\"transform\":{\"id\":\"1232\"}}},\"id\":\"1237\",\"type\":\"VBar\"},{\"attributes\":{\"axis\":{\"id\":\"1013\"},\"dimension\":1,\"ticker\":null},\"id\":\"1016\",\"type\":\"Grid\"},{\"attributes\":{\"factors\":[\"False\",\"True\"]},\"id\":\"1337\",\"type\":\"FactorRange\"},{\"attributes\":{},\"id\":\"1006\",\"type\":\"CategoricalScale\"},{\"attributes\":{\"fill_color\":{\"value\":\"olive\"},\"line_color\":{\"value\":\"olive\"},\"top\":{\"field\":\"False\"},\"width\":{\"value\":0.2},\"x\":{\"field\":\"categories\",\"transform\":{\"id\":\"1232\"}}},\"id\":\"1236\",\"type\":\"VBar\"},{\"attributes\":{},\"id\":\"1282\",\"type\":\"BasicTicker\"},{\"attributes\":{\"axis\":{\"id\":\"1010\"},\"ticker\":null},\"id\":\"1012\",\"type\":\"Grid\"},{\"attributes\":{\"data_source\":{\"id\":\"1234\"},\"glyph\":{\"id\":\"1236\"},\"hover_glyph\":null,\"muted_glyph\":null,\"nonselection_glyph\":{\"id\":\"1237\"},\"selection_glyph\":null,\"view\":{\"id\":\"1239\"}},\"id\":\"1238\",\"type\":\"GlyphRenderer\"},{\"attributes\":{\"range\":{\"id\":\"1270\"},\"value\":-0.15},\"id\":\"1299\",\"type\":\"Dodge\"},{\"attributes\":{\"below\":[{\"id\":\"1345\"}],\"center\":[{\"id\":\"1347\"},{\"id\":\"1351\"},{\"id\":\"1383\"}],\"left\":[{\"id\":\"1348\"}],\"plot_height\":250,\"renderers\":[{\"id\":\"1372\"},{\"id\":\"1389\"}],\"title\":{\"id\":\"1375\"},\"toolbar\":{\"id\":\"1359\"},\"toolbar_location\":null,\"x_range\":{\"id\":\"1337\"},\"x_scale\":{\"id\":\"1341\"},\"y_range\":{\"id\":\"1339\"},\"y_scale\":{\"id\":\"1343\"}},\"id\":\"1336\",\"subtype\":\"Figure\",\"type\":\"Plot\"},{\"attributes\":{\"text\":\"\"},\"id\":\"1241\",\"type\":\"Title\"},{\"attributes\":{\"axis\":{\"id\":\"1281\"},\"dimension\":1,\"ticker\":null},\"id\":\"1284\",\"type\":\"Grid\"},{\"attributes\":{\"active_drag\":\"auto\",\"active_inspect\":\"auto\",\"active_multi\":null,\"active_scroll\":\"auto\",\"active_tap\":\"auto\",\"tools\":[{\"id\":\"1285\"},{\"id\":\"1286\"},{\"id\":\"1287\"},{\"id\":\"1288\"},{\"id\":\"1289\"},{\"id\":\"1290\"}]},\"id\":\"1292\",\"type\":\"Toolbar\"},{\"attributes\":{\"below\":[{\"id\":\"1278\"}],\"center\":[{\"id\":\"1280\"},{\"id\":\"1284\"},{\"id\":\"1316\"}],\"left\":[{\"id\":\"1281\"}],\"plot_height\":250,\"renderers\":[{\"id\":\"1305\"},{\"id\":\"1322\"}],\"title\":{\"id\":\"1308\"},\"toolbar\":{\"id\":\"1292\"},\"toolbar_location\":null,\"x_range\":{\"id\":\"1270\"},\"x_scale\":{\"id\":\"1274\"},\"y_range\":{\"id\":\"1272\"},\"y_scale\":{\"id\":\"1276\"}},\"id\":\"1269\",\"subtype\":\"Figure\",\"type\":\"Plot\"},{\"attributes\":{},\"id\":\"1266\",\"type\":\"Selection\"},{\"attributes\":{\"factors\":[\"1\",\"2\",\"3\",\"4\",\"5\",\"6\",\"7\",\"8\",\"9\",\"10\",\"11\",\"12\",\"13\",\"14\",\"15\",\"16\",\"17\",\"18\",\"19\",\"20\"]},\"id\":\"1203\",\"type\":\"FactorRange\"},{\"attributes\":{\"source\":{\"id\":\"1318\"}},\"id\":\"1323\",\"type\":\"CDSView\"},{\"attributes\":{\"source\":{\"id\":\"1234\"}},\"id\":\"1239\",\"type\":\"CDSView\"},{\"attributes\":{\"fill_alpha\":{\"value\":0.1},\"fill_color\":{\"value\":\"indigo\"},\"line_alpha\":{\"value\":0.1},\"line_color\":{\"value\":\"indigo\"},\"top\":{\"field\":\"True\"},\"width\":{\"value\":0.2},\"x\":{\"field\":\"categories\",\"transform\":{\"id\":\"1367\"}}},\"id\":\"1388\",\"type\":\"VBar\"},{\"attributes\":{},\"id\":\"1333\",\"type\":\"Selection\"},{\"attributes\":{\"bottom_units\":\"screen\",\"fill_alpha\":0.5,\"fill_color\":\"lightgrey\",\"left_units\":\"screen\",\"level\":\"overlay\",\"line_alpha\":1.0,\"line_color\":\"black\",\"line_dash\":[4,4],\"line_width\":2,\"right_units\":\"screen\",\"top_units\":\"screen\"},\"id\":\"1291\",\"type\":\"BoxAnnotation\"},{\"attributes\":{\"end\":3316.0},\"id\":\"1205\",\"type\":\"Range1d\"},{\"attributes\":{\"fill_alpha\":{\"value\":0.1},\"fill_color\":{\"value\":\"olive\"},\"line_alpha\":{\"value\":0.1},\"line_color\":{\"value\":\"olive\"},\"top\":{\"field\":\"False\"},\"width\":{\"value\":0.2},\"x\":{\"field\":\"categories\",\"transform\":{\"id\":\"1299\"}}},\"id\":\"1304\",\"type\":\"VBar\"},{\"attributes\":{\"range\":{\"id\":\"1002\"},\"value\":0.1},\"id\":\"1032\",\"type\":\"Dodge\"},{\"attributes\":{},\"id\":\"1242\",\"type\":\"CategoricalTickFormatter\"},{\"attributes\":{\"fill_color\":{\"value\":\"olive\"},\"line_color\":{\"value\":\"olive\"},\"top\":{\"field\":\"False\"},\"width\":{\"value\":0.2},\"x\":{\"field\":\"categories\",\"transform\":{\"id\":\"1299\"}}},\"id\":\"1303\",\"type\":\"VBar\"},{\"attributes\":{\"data_source\":{\"id\":\"1301\"},\"glyph\":{\"id\":\"1303\"},\"hover_glyph\":null,\"muted_glyph\":null,\"nonselection_glyph\":{\"id\":\"1304\"},\"selection_glyph\":null,\"view\":{\"id\":\"1306\"}},\"id\":\"1305\",\"type\":\"GlyphRenderer\"},{\"attributes\":{},\"id\":\"1244\",\"type\":\"BasicTickFormatter\"},{\"attributes\":{\"range\":{\"id\":\"1002\"},\"value\":-0.15},\"id\":\"1031\",\"type\":\"Dodge\"},{\"attributes\":{\"text\":\"\"},\"id\":\"1308\",\"type\":\"Title\"},{\"attributes\":{\"end\":9331},\"id\":\"1272\",\"type\":\"Range1d\"},{\"attributes\":{},\"id\":\"1246\",\"type\":\"UnionRenderers\"},{\"attributes\":{},\"id\":\"1209\",\"type\":\"LinearScale\"},{\"attributes\":{\"fill_alpha\":{\"value\":0.1},\"fill_color\":{\"value\":\"olive\"},\"line_alpha\":{\"value\":0.1},\"line_color\":{\"value\":\"olive\"},\"top\":{\"field\":\"False\"},\"width\":{\"value\":0.2},\"x\":{\"field\":\"categories\",\"transform\":{\"id\":\"1031\"}}},\"id\":\"1036\",\"type\":\"VBar\"},{\"attributes\":{},\"id\":\"1247\",\"type\":\"Selection\"},{\"attributes\":{\"source\":{\"id\":\"1301\"}},\"id\":\"1306\",\"type\":\"CDSView\"},{\"attributes\":{\"range\":{\"id\":\"1337\"},\"value\":-0.15},\"id\":\"1366\",\"type\":\"Dodge\"},{\"attributes\":{},\"id\":\"1017\",\"type\":\"PanTool\"},{\"attributes\":{\"items\":[{\"id\":\"1250\"},{\"id\":\"1268\"}],\"orientation\":\"horizontal\"},\"id\":\"1249\",\"type\":\"Legend\"},{\"attributes\":{},\"id\":\"1020\",\"type\":\"SaveTool\"},{\"attributes\":{\"formatter\":{\"id\":\"1242\"},\"ticker\":{\"id\":\"1212\"}},\"id\":\"1211\",\"type\":\"CategoricalAxis\"},{\"attributes\":{\"axis\":{\"id\":\"1211\"},\"ticker\":null},\"id\":\"1213\",\"type\":\"Grid\"},{\"attributes\":{\"label\":{\"value\":\"False\"},\"renderers\":[{\"id\":\"1238\"}]},\"id\":\"1250\",\"type\":\"LegendItem\"},{\"attributes\":{},\"id\":\"1018\",\"type\":\"WheelZoomTool\"},{\"attributes\":{},\"id\":\"1309\",\"type\":\"CategoricalTickFormatter\"},{\"attributes\":{\"data\":{\"False\":{\"__ndarray__\":\"AAAAAAAaoUAAAAAAAPSnQAAAAAAAQJ1AAAAAAABAjEAAAAAAAIBpQAAAAAAAcHhAAAAAAAAAPEAAAAAAAABvQAAAAAAAAENAAAAAAACAdkAAAAAAAABpQAAAAAAAAPA/AAAAAAC4hUAAAAAAAAAmQAAAAAAAAENAAAAAAAAAAEAAAAAAAADwPwAAAAAAACRAAAAAAAAAMEAAAAAAAIBiQA==\",\"dtype\":\"float64\",\"order\":\"little\",\"shape\":[20]},\"True\":{\"__ndarray__\":\"AAAAAABgcEAAAAAAAHiKQAAAAAAAgGZAAAAAAACgZEAAAAAAAABMQAAAAAAAgEpAAAAAAAAAKEAAAAAAAMBXQAAAAAAAABBAAAAAAACAVkAAAAAAAIBHQAAAAAAAAPh/AAAAAACARUAAAAAAAAAAQAAAAAAAAPh/AAAAAAAA8D8AAAAAAAD4fwAAAAAAAPh/AAAAAAAA8D8AAAAAAABJQA==\",\"dtype\":\"float64\",\"order\":\"little\",\"shape\":[20]},\"categories\":[\"1\",\"2\",\"3\",\"4\",\"5\",\"6\",\"7\",\"8\",\"9\",\"10\",\"11\",\"12\",\"13\",\"14\",\"15\",\"16\",\"17\",\"18\",\"19\",\"20\"],\"index\":[0,1,2,3,4,5,6,7,8,9,10,11,12,13,14,15,16,17,18,19]},\"selected\":{\"id\":\"1266\"},\"selection_policy\":{\"id\":\"1265\"}},\"id\":\"1251\",\"type\":\"ColumnDataSource\"},{\"attributes\":{\"overlay\":{\"id\":\"1023\"}},\"id\":\"1019\",\"type\":\"BoxZoomTool\"},{\"attributes\":{},\"id\":\"1311\",\"type\":\"BasicTickFormatter\"},{\"attributes\":{\"formatter\":{\"id\":\"1244\"},\"ticker\":{\"id\":\"1215\"}},\"id\":\"1214\",\"type\":\"LinearAxis\"},{\"attributes\":{\"fill_alpha\":{\"value\":0.1},\"fill_color\":{\"value\":\"indigo\"},\"line_alpha\":{\"value\":0.1},\"line_color\":{\"value\":\"indigo\"},\"top\":{\"field\":\"True\"},\"width\":{\"value\":0.2},\"x\":{\"field\":\"categories\",\"transform\":{\"id\":\"1233\"}}},\"id\":\"1254\",\"type\":\"VBar\"},{\"attributes\":{},\"id\":\"1313\",\"type\":\"UnionRenderers\"},{\"attributes\":{\"fill_color\":{\"value\":\"indigo\"},\"line_color\":{\"value\":\"indigo\"},\"top\":{\"field\":\"True\"},\"width\":{\"value\":0.2},\"x\":{\"field\":\"categories\",\"transform\":{\"id\":\"1233\"}}},\"id\":\"1253\",\"type\":\"VBar\"},{\"attributes\":{},\"id\":\"1215\",\"type\":\"BasicTicker\"},{\"attributes\":{\"data_source\":{\"id\":\"1251\"},\"glyph\":{\"id\":\"1253\"},\"hover_glyph\":null,\"muted_glyph\":null,\"nonselection_glyph\":{\"id\":\"1254\"},\"selection_glyph\":null,\"view\":{\"id\":\"1256\"}},\"id\":\"1255\",\"type\":\"GlyphRenderer\"},{\"attributes\":{},\"id\":\"1314\",\"type\":\"Selection\"},{\"attributes\":{\"formatter\":{\"id\":\"1043\"},\"ticker\":{\"id\":\"1014\"}},\"id\":\"1013\",\"type\":\"LinearAxis\"},{\"attributes\":{},\"id\":\"1276\",\"type\":\"LinearScale\"},{\"attributes\":{\"items\":[{\"id\":\"1317\"},{\"id\":\"1335\"}],\"orientation\":\"horizontal\"},\"id\":\"1316\",\"type\":\"Legend\"},{\"attributes\":{},\"id\":\"1207\",\"type\":\"CategoricalScale\"},{\"attributes\":{},\"id\":\"1212\",\"type\":\"CategoricalTicker\"},{\"attributes\":{\"label\":{\"value\":\"False\"},\"renderers\":[{\"id\":\"1305\"}]},\"id\":\"1317\",\"type\":\"LegendItem\"},{\"attributes\":{},\"id\":\"1265\",\"type\":\"UnionRenderers\"},{\"attributes\":{},\"id\":\"1021\",\"type\":\"ResetTool\"},{\"attributes\":{\"factors\":[\"New_Visitor\",\"Other\",\"Returning_Visitor\"]},\"id\":\"1270\",\"type\":\"FactorRange\"},{\"attributes\":{\"source\":{\"id\":\"1251\"}},\"id\":\"1256\",\"type\":\"CDSView\"},{\"attributes\":{\"data\":{\"False\":[1272,69,9081],\"True\":[422,16,1470],\"categories\":[\"New_Visitor\",\"Other\",\"Returning_Visitor\"],\"index\":[0,1,2]},\"selected\":{\"id\":\"1333\"},\"selection_policy\":{\"id\":\"1332\"}},\"id\":\"1318\",\"type\":\"ColumnDataSource\"},{\"attributes\":{},\"id\":\"1022\",\"type\":\"HelpTool\"},{\"attributes\":{\"axis\":{\"id\":\"1214\"},\"dimension\":1,\"ticker\":null},\"id\":\"1217\",\"type\":\"Grid\"},{\"attributes\":{\"formatter\":{\"id\":\"1311\"},\"ticker\":{\"id\":\"1282\"}},\"id\":\"1281\",\"type\":\"LinearAxis\"},{\"attributes\":{\"fill_alpha\":{\"value\":0.1},\"fill_color\":{\"value\":\"indigo\"},\"line_alpha\":{\"value\":0.1},\"line_color\":{\"value\":\"indigo\"},\"top\":{\"field\":\"True\"},\"width\":{\"value\":0.2},\"x\":{\"field\":\"categories\",\"transform\":{\"id\":\"1300\"}}},\"id\":\"1321\",\"type\":\"VBar\"},{\"attributes\":{},\"id\":\"1045\",\"type\":\"UnionRenderers\"},{\"attributes\":{\"data\":{\"False\":[357,1511,181,366,259,1715,2999,2238,434,362],\"True\":[76,216,3,66,29,192,365,760,115,86],\"categories\":[\"Aug\",\"Dec\",\"Feb\",\"Jul\",\"June\",\"Mar\",\"May\",\"Nov\",\"Oct\",\"Sep\"],\"index\":[0,1,2,3,4,5,6,7,8,9]},\"selected\":{\"id\":\"1046\"},\"selection_policy\":{\"id\":\"1045\"}},\"id\":\"1033\",\"type\":\"ColumnDataSource\"},{\"attributes\":{\"fill_color\":{\"value\":\"indigo\"},\"line_color\":{\"value\":\"indigo\"},\"top\":{\"field\":\"True\"},\"width\":{\"value\":0.2},\"x\":{\"field\":\"categories\",\"transform\":{\"id\":\"1300\"}}},\"id\":\"1320\",\"type\":\"VBar\"},{\"attributes\":{\"range\":{\"id\":\"1203\"},\"value\":0.1},\"id\":\"1233\",\"type\":\"Dodge\"},{\"attributes\":{\"active_drag\":\"auto\",\"active_inspect\":\"auto\",\"active_multi\":null,\"active_scroll\":\"auto\",\"active_tap\":\"auto\",\"tools\":[{\"id\":\"1017\"},{\"id\":\"1018\"},{\"id\":\"1019\"},{\"id\":\"1020\"},{\"id\":\"1021\"},{\"id\":\"1022\"}]},\"id\":\"1024\",\"type\":\"Toolbar\"},{\"attributes\":{\"data_source\":{\"id\":\"1318\"},\"glyph\":{\"id\":\"1320\"},\"hover_glyph\":null,\"muted_glyph\":null,\"nonselection_glyph\":{\"id\":\"1321\"},\"selection_glyph\":null,\"view\":{\"id\":\"1323\"}},\"id\":\"1322\",\"type\":\"GlyphRenderer\"},{\"attributes\":{},\"id\":\"1279\",\"type\":\"CategoricalTicker\"},{\"attributes\":{\"range\":{\"id\":\"1203\"},\"value\":-0.15},\"id\":\"1232\",\"type\":\"Dodge\"},{\"attributes\":{},\"id\":\"1332\",\"type\":\"UnionRenderers\"},{\"attributes\":{},\"id\":\"1043\",\"type\":\"BasicTickFormatter\"},{\"attributes\":{\"label\":{\"value\":\"True\"},\"renderers\":[{\"id\":\"1322\"}]},\"id\":\"1335\",\"type\":\"LegendItem\"},{\"attributes\":{\"source\":{\"id\":\"1385\"}},\"id\":\"1390\",\"type\":\"CDSView\"},{\"attributes\":{\"items\":[{\"id\":\"1049\"},{\"id\":\"1067\"}],\"orientation\":\"horizontal\"},\"id\":\"1048\",\"type\":\"Legend\"},{\"attributes\":{\"formatter\":{\"id\":\"1175\"},\"ticker\":{\"id\":\"1145\"}},\"id\":\"1144\",\"type\":\"CategoricalAxis\"},{\"attributes\":{\"data_source\":{\"id\":\"1385\"},\"glyph\":{\"id\":\"1387\"},\"hover_glyph\":null,\"muted_glyph\":null,\"nonselection_glyph\":{\"id\":\"1388\"},\"selection_glyph\":null,\"view\":{\"id\":\"1390\"}},\"id\":\"1389\",\"type\":\"GlyphRenderer\"},{\"attributes\":{},\"id\":\"1341\",\"type\":\"CategoricalScale\"},{\"attributes\":{\"factors\":[\"1\",\"2\",\"3\",\"4\",\"5\",\"6\",\"7\",\"8\",\"9\",\"10\",\"11\",\"12\",\"13\"]},\"id\":\"1136\",\"type\":\"FactorRange\"},{\"attributes\":{\"axis\":{\"id\":\"1348\"},\"dimension\":1,\"ticker\":null},\"id\":\"1351\",\"type\":\"Grid\"},{\"attributes\":{},\"id\":\"1046\",\"type\":\"Selection\"},{\"attributes\":{},\"id\":\"1085\",\"type\":\"WheelZoomTool\"},{\"attributes\":{},\"id\":\"1343\",\"type\":\"LinearScale\"},{\"attributes\":{},\"id\":\"1399\",\"type\":\"UnionRenderers\"},{\"attributes\":{\"bottom_units\":\"screen\",\"fill_alpha\":0.5,\"fill_color\":\"lightgrey\",\"left_units\":\"screen\",\"level\":\"overlay\",\"line_alpha\":1.0,\"line_color\":\"black\",\"line_dash\":[4,4],\"line_width\":2,\"right_units\":\"screen\",\"top_units\":\"screen\"},\"id\":\"1023\",\"type\":\"BoxAnnotation\"},{\"attributes\":{\"data\":{\"False\":[8053,2369],\"True\":[1409,499],\"categories\":[\"False\",\"True\"],\"index\":[0,1]},\"selected\":{\"id\":\"1381\"},\"selection_policy\":{\"id\":\"1380\"}},\"id\":\"1368\",\"type\":\"ColumnDataSource\"},{\"attributes\":{\"overlay\":{\"id\":\"1090\"}},\"id\":\"1086\",\"type\":\"BoxZoomTool\"},{\"attributes\":{},\"id\":\"1145\",\"type\":\"CategoricalTicker\"},{\"attributes\":{},\"id\":\"1400\",\"type\":\"Selection\"},{\"attributes\":{},\"id\":\"1084\",\"type\":\"PanTool\"},{\"attributes\":{\"end\":3249},\"id\":\"1004\",\"type\":\"Range1d\"},{\"attributes\":{},\"id\":\"1140\",\"type\":\"CategoricalScale\"},{\"attributes\":{\"axis\":{\"id\":\"1345\"},\"ticker\":null},\"id\":\"1347\",\"type\":\"Grid\"},{\"attributes\":{\"label\":{\"value\":\"True\"},\"renderers\":[{\"id\":\"1389\"}]},\"id\":\"1402\",\"type\":\"LegendItem\"},{\"attributes\":{\"range\":{\"id\":\"1337\"},\"value\":0.1},\"id\":\"1367\",\"type\":\"Dodge\"},{\"attributes\":{\"toolbars\":[{\"id\":\"1024\"},{\"id\":\"1091\"},{\"id\":\"1158\"},{\"id\":\"1225\"},{\"id\":\"1292\"},{\"id\":\"1359\"}],\"tools\":[{\"id\":\"1017\"},{\"id\":\"1018\"},{\"id\":\"1019\"},{\"id\":\"1020\"},{\"id\":\"1021\"},{\"id\":\"1022\"},{\"id\":\"1084\"},{\"id\":\"1085\"},{\"id\":\"1086\"},{\"id\":\"1087\"},{\"id\":\"1088\"},{\"id\":\"1089\"},{\"id\":\"1151\"},{\"id\":\"1152\"},{\"id\":\"1153\"},{\"id\":\"1154\"},{\"id\":\"1155\"},{\"id\":\"1156\"},{\"id\":\"1218\"},{\"id\":\"1219\"},{\"id\":\"1220\"},{\"id\":\"1221\"},{\"id\":\"1222\"},{\"id\":\"1223\"},{\"id\":\"1285\"},{\"id\":\"1286\"},{\"id\":\"1287\"},{\"id\":\"1288\"},{\"id\":\"1289\"},{\"id\":\"1290\"},{\"id\":\"1352\"},{\"id\":\"1353\"},{\"id\":\"1354\"},{\"id\":\"1355\"},{\"id\":\"1356\"},{\"id\":\"1357\"}]},\"id\":\"1476\",\"type\":\"ProxyToolbar\"},{\"attributes\":{\"fill_color\":{\"value\":\"olive\"},\"line_color\":{\"value\":\"olive\"},\"top\":{\"field\":\"False\"},\"width\":{\"value\":0.2},\"x\":{\"field\":\"categories\",\"transform\":{\"id\":\"1031\"}}},\"id\":\"1035\",\"type\":\"VBar\"},{\"attributes\":{},\"id\":\"1008\",\"type\":\"LinearScale\"},{\"attributes\":{},\"id\":\"1142\",\"type\":\"LinearScale\"},{\"attributes\":{\"formatter\":{\"id\":\"1378\"},\"ticker\":{\"id\":\"1349\"}},\"id\":\"1348\",\"type\":\"LinearAxis\"},{\"attributes\":{\"toolbar\":{\"id\":\"1476\"},\"toolbar_location\":\"above\"},\"id\":\"1477\",\"type\":\"ToolbarBox\"},{\"attributes\":{\"data\":{\"False\":[2206,5446,2287,393,5,17,6,62],\"True\":[379,1155,268,85,1,2,1,17],\"categories\":[\"1\",\"2\",\"3\",\"4\",\"5\",\"6\",\"7\",\"8\"],\"index\":[0,1,2,3,4,5,6,7]},\"selected\":{\"id\":\"1113\"},\"selection_policy\":{\"id\":\"1112\"}},\"id\":\"1100\",\"type\":\"ColumnDataSource\"},{\"attributes\":{\"text\":\"\"},\"id\":\"1040\",\"type\":\"Title\"},{\"attributes\":{},\"id\":\"1087\",\"type\":\"SaveTool\"},{\"attributes\":{\"data_source\":{\"id\":\"1033\"},\"glyph\":{\"id\":\"1035\"},\"hover_glyph\":null,\"muted_glyph\":null,\"nonselection_glyph\":{\"id\":\"1036\"},\"selection_glyph\":null,\"view\":{\"id\":\"1038\"}},\"id\":\"1037\",\"type\":\"GlyphRenderer\"},{\"attributes\":{\"axis\":{\"id\":\"1144\"},\"ticker\":null},\"id\":\"1146\",\"type\":\"Grid\"},{\"attributes\":{},\"id\":\"1349\",\"type\":\"BasicTicker\"},{\"attributes\":{},\"id\":\"1088\",\"type\":\"ResetTool\"},{\"attributes\":{},\"id\":\"1089\",\"type\":\"HelpTool\"},{\"attributes\":{},\"id\":\"1352\",\"type\":\"PanTool\"},{\"attributes\":{\"formatter\":{\"id\":\"1177\"},\"ticker\":{\"id\":\"1148\"}},\"id\":\"1147\",\"type\":\"LinearAxis\"},{\"attributes\":{\"source\":{\"id\":\"1100\"}},\"id\":\"1105\",\"type\":\"CDSView\"},{\"attributes\":{\"active_drag\":\"auto\",\"active_inspect\":\"auto\",\"active_multi\":null,\"active_scroll\":\"auto\",\"active_tap\":\"auto\",\"tools\":[{\"id\":\"1084\"},{\"id\":\"1085\"},{\"id\":\"1086\"},{\"id\":\"1087\"},{\"id\":\"1088\"},{\"id\":\"1089\"}]},\"id\":\"1091\",\"type\":\"Toolbar\"},{\"attributes\":{\"source\":{\"id\":\"1033\"}},\"id\":\"1038\",\"type\":\"CDSView\"},{\"attributes\":{},\"id\":\"1148\",\"type\":\"BasicTicker\"},{\"attributes\":{\"axis\":{\"id\":\"1147\"},\"dimension\":1,\"ticker\":null},\"id\":\"1150\",\"type\":\"Grid\"},{\"attributes\":{},\"id\":\"1041\",\"type\":\"CategoricalTickFormatter\"},{\"attributes\":{\"label\":{\"value\":\"False\"},\"renderers\":[{\"id\":\"1037\"}]},\"id\":\"1049\",\"type\":\"LegendItem\"},{\"attributes\":{\"data\":{\"False\":{\"__ndarray__\":\"AAAAAAAaoUAAAAAAAPSnQAAAAAAAQJ1AAAAAAABAjEAAAAAAAIBpQAAAAAAAcHhAAAAAAAAAPEAAAAAAAABvQAAAAAAAAENAAAAAAACAdkAAAAAAAABpQAAAAAAAAPA/AAAAAAC4hUAAAAAAAAAmQAAAAAAAAENAAAAAAAAAAEAAAAAAAADwPwAAAAAAACRAAAAAAAAAMEAAAAAAAIBiQA==\",\"dtype\":\"float64\",\"order\":\"little\",\"shape\":[20]},\"True\":{\"__ndarray__\":\"AAAAAABgcEAAAAAAAHiKQAAAAAAAgGZAAAAAAACgZEAAAAAAAABMQAAAAAAAgEpAAAAAAAAAKEAAAAAAAMBXQAAAAAAAABBAAAAAAACAVkAAAAAAAIBHQAAAAAAAAPh/AAAAAACARUAAAAAAAAAAQAAAAAAAAPh/AAAAAAAA8D8AAAAAAAD4fwAAAAAAAPh/AAAAAAAA8D8AAAAAAABJQA==\",\"dtype\":\"float64\",\"order\":\"little\",\"shape\":[20]},\"categories\":[\"1\",\"2\",\"3\",\"4\",\"5\",\"6\",\"7\",\"8\",\"9\",\"10\",\"11\",\"12\",\"13\",\"14\",\"15\",\"16\",\"17\",\"18\",\"19\",\"20\"],\"index\":[0,1,2,3,4,5,6,7,8,9,10,11,12,13,14,15,16,17,18,19]},\"selected\":{\"id\":\"1247\"},\"selection_policy\":{\"id\":\"1246\"}},\"id\":\"1234\",\"type\":\"ColumnDataSource\"},{\"attributes\":{\"end\":6988.0},\"id\":\"1138\",\"type\":\"Range1d\"},{\"attributes\":{},\"id\":\"1353\",\"type\":\"WheelZoomTool\"},{\"attributes\":{\"text\":\"\"},\"id\":\"1107\",\"type\":\"Title\"},{\"attributes\":{\"data_source\":{\"id\":\"1100\"},\"glyph\":{\"id\":\"1102\"},\"hover_glyph\":null,\"muted_glyph\":null,\"nonselection_glyph\":{\"id\":\"1103\"},\"selection_glyph\":null,\"view\":{\"id\":\"1105\"}},\"id\":\"1104\",\"type\":\"GlyphRenderer\"},{\"attributes\":{\"data\":{\"False\":[357,1511,181,366,259,1715,2999,2238,434,362],\"True\":[76,216,3,66,29,192,365,760,115,86],\"categories\":[\"Aug\",\"Dec\",\"Feb\",\"Jul\",\"June\",\"Mar\",\"May\",\"Nov\",\"Oct\",\"Sep\"],\"index\":[0,1,2,3,4,5,6,7,8,9]},\"selected\":{\"id\":\"1065\"},\"selection_policy\":{\"id\":\"1064\"}},\"id\":\"1050\",\"type\":\"ColumnDataSource\"},{\"attributes\":{\"overlay\":{\"id\":\"1358\"}},\"id\":\"1354\",\"type\":\"BoxZoomTool\"},{\"attributes\":{\"fill_color\":{\"value\":\"olive\"},\"line_color\":{\"value\":\"olive\"},\"top\":{\"field\":\"False\"},\"width\":{\"value\":0.2},\"x\":{\"field\":\"categories\",\"transform\":{\"id\":\"1098\"}}},\"id\":\"1102\",\"type\":\"VBar\"},{\"attributes\":{\"below\":[{\"id\":\"1211\"}],\"center\":[{\"id\":\"1213\"},{\"id\":\"1217\"},{\"id\":\"1249\"}],\"left\":[{\"id\":\"1214\"}],\"plot_height\":250,\"renderers\":[{\"id\":\"1238\"},{\"id\":\"1255\"}],\"title\":{\"id\":\"1241\"},\"toolbar\":{\"id\":\"1225\"},\"toolbar_location\":null,\"x_range\":{\"id\":\"1203\"},\"x_scale\":{\"id\":\"1207\"},\"y_range\":{\"id\":\"1205\"},\"y_scale\":{\"id\":\"1209\"}},\"id\":\"1202\",\"subtype\":\"Figure\",\"type\":\"Plot\"},{\"attributes\":{},\"id\":\"1355\",\"type\":\"SaveTool\"},{\"attributes\":{},\"id\":\"1357\",\"type\":\"HelpTool\"},{\"attributes\":{\"bottom_units\":\"screen\",\"fill_alpha\":0.5,\"fill_color\":\"lightgrey\",\"left_units\":\"screen\",\"level\":\"overlay\",\"line_alpha\":1.0,\"line_color\":\"black\",\"line_dash\":[4,4],\"line_width\":2,\"right_units\":\"screen\",\"top_units\":\"screen\"},\"id\":\"1090\",\"type\":\"BoxAnnotation\"},{\"attributes\":{\"fill_alpha\":{\"value\":0.1},\"fill_color\":{\"value\":\"indigo\"},\"line_alpha\":{\"value\":0.1},\"line_color\":{\"value\":\"indigo\"},\"top\":{\"field\":\"True\"},\"width\":{\"value\":0.2},\"x\":{\"field\":\"categories\",\"transform\":{\"id\":\"1032\"}}},\"id\":\"1053\",\"type\":\"VBar\"},{\"attributes\":{\"fill_color\":{\"value\":\"indigo\"},\"line_color\":{\"value\":\"indigo\"},\"top\":{\"field\":\"True\"},\"width\":{\"value\":0.2},\"x\":{\"field\":\"categories\",\"transform\":{\"id\":\"1032\"}}},\"id\":\"1052\",\"type\":\"VBar\"},{\"attributes\":{\"data\":{\"False\":{\"__ndarray__\":\"AAAAAABioEAAAAAAAFK6QAAAAAAAAFlAAAAAAADwgkAAAAAAANB3QAAAAAAAQGNAAAAAAACARUAAAAAAAIBcQAAAAAAAAPA/AAAAAABgYEAAAAAAAAAUQAAAAAAAABxAAAAAAACARkA=\",\"dtype\":\"float64\",\"order\":\"little\",\"shape\":[13]},\"True\":{\"__ndarray__\":\"AAAAAADQdkAAAAAAAByTQAAAAAAAABRAAAAAAABAYEAAAAAAAIBVQAAAAAAAADRAAAAAAAAAGEAAAAAAAAA1QAAAAAAAAPh/AAAAAAAAQEAAAAAAAADwPwAAAAAAAAhAAAAAAAAAMEA=\",\"dtype\":\"float64\",\"order\":\"little\",\"shape\":[13]},\"categories\":[\"1\",\"2\",\"3\",\"4\",\"5\",\"6\",\"7\",\"8\",\"9\",\"10\",\"11\",\"12\",\"13\"],\"index\":[0,1,2,3,4,5,6,7,8,9,10,11,12]},\"selected\":{\"id\":\"1180\"},\"selection_policy\":{\"id\":\"1179\"}},\"id\":\"1167\",\"type\":\"ColumnDataSource\"},{\"attributes\":{\"data_source\":{\"id\":\"1050\"},\"glyph\":{\"id\":\"1052\"},\"hover_glyph\":null,\"muted_glyph\":null,\"nonselection_glyph\":{\"id\":\"1053\"},\"selection_glyph\":null,\"view\":{\"id\":\"1055\"}},\"id\":\"1054\",\"type\":\"GlyphRenderer\"},{\"attributes\":{\"fill_alpha\":{\"value\":0.1},\"fill_color\":{\"value\":\"olive\"},\"line_alpha\":{\"value\":0.1},\"line_color\":{\"value\":\"olive\"},\"top\":{\"field\":\"False\"},\"width\":{\"value\":0.2},\"x\":{\"field\":\"categories\",\"transform\":{\"id\":\"1098\"}}},\"id\":\"1103\",\"type\":\"VBar\"},{\"attributes\":{\"fill_color\":{\"value\":\"indigo\"},\"line_color\":{\"value\":\"indigo\"},\"top\":{\"field\":\"True\"},\"width\":{\"value\":0.2},\"x\":{\"field\":\"categories\",\"transform\":{\"id\":\"1367\"}}},\"id\":\"1387\",\"type\":\"VBar\"},{\"attributes\":{},\"id\":\"1064\",\"type\":\"UnionRenderers\"},{\"attributes\":{\"range\":{\"id\":\"1136\"},\"value\":0.1},\"id\":\"1166\",\"type\":\"Dodge\"},{\"attributes\":{},\"id\":\"1381\",\"type\":\"Selection\"},{\"attributes\":{},\"id\":\"1356\",\"type\":\"ResetTool\"},{\"attributes\":{},\"id\":\"1346\",\"type\":\"CategoricalTicker\"},{\"attributes\":{},\"id\":\"1151\",\"type\":\"PanTool\"},{\"attributes\":{},\"id\":\"1108\",\"type\":\"CategoricalTickFormatter\"},{\"attributes\":{\"range\":{\"id\":\"1069\"},\"value\":0.1},\"id\":\"1099\",\"type\":\"Dodge\"},{\"attributes\":{\"source\":{\"id\":\"1050\"}},\"id\":\"1055\",\"type\":\"CDSView\"},{\"attributes\":{},\"id\":\"1152\",\"type\":\"WheelZoomTool\"},{\"attributes\":{},\"id\":\"1110\",\"type\":\"BasicTickFormatter\"},{\"attributes\":{\"overlay\":{\"id\":\"1157\"}},\"id\":\"1153\",\"type\":\"BoxZoomTool\"},{\"attributes\":{\"formatter\":{\"id\":\"1376\"},\"ticker\":{\"id\":\"1346\"}},\"id\":\"1345\",\"type\":\"CategoricalAxis\"},{\"attributes\":{},\"id\":\"1112\",\"type\":\"UnionRenderers\"},{\"attributes\":{\"active_drag\":\"auto\",\"active_inspect\":\"auto\",\"active_multi\":null,\"active_scroll\":\"auto\",\"active_tap\":\"auto\",\"tools\":[{\"id\":\"1352\"},{\"id\":\"1353\"},{\"id\":\"1354\"},{\"id\":\"1355\"},{\"id\":\"1356\"},{\"id\":\"1357\"}]},\"id\":\"1359\",\"type\":\"Toolbar\"},{\"attributes\":{},\"id\":\"1065\",\"type\":\"Selection\"},{\"attributes\":{\"below\":[{\"id\":\"1077\"}],\"center\":[{\"id\":\"1079\"},{\"id\":\"1083\"},{\"id\":\"1115\"}],\"left\":[{\"id\":\"1080\"}],\"plot_height\":250,\"renderers\":[{\"id\":\"1104\"},{\"id\":\"1121\"}],\"title\":{\"id\":\"1107\"},\"toolbar\":{\"id\":\"1091\"},\"toolbar_location\":null,\"x_range\":{\"id\":\"1069\"},\"x_scale\":{\"id\":\"1073\"},\"y_range\":{\"id\":\"1071\"},\"y_scale\":{\"id\":\"1075\"}},\"id\":\"1068\",\"subtype\":\"Figure\",\"type\":\"Plot\"},{\"attributes\":{},\"id\":\"1154\",\"type\":\"SaveTool\"},{\"attributes\":{},\"id\":\"1113\",\"type\":\"Selection\"},{\"attributes\":{\"label\":{\"value\":\"True\"},\"renderers\":[{\"id\":\"1054\"}]},\"id\":\"1067\",\"type\":\"LegendItem\"},{\"attributes\":{\"below\":[{\"id\":\"1010\"}],\"center\":[{\"id\":\"1012\"},{\"id\":\"1016\"},{\"id\":\"1048\"}],\"left\":[{\"id\":\"1013\"}],\"plot_height\":250,\"renderers\":[{\"id\":\"1037\"},{\"id\":\"1054\"}],\"title\":{\"id\":\"1040\"},\"toolbar\":{\"id\":\"1024\"},\"toolbar_location\":null,\"x_range\":{\"id\":\"1002\"},\"x_scale\":{\"id\":\"1006\"},\"y_range\":{\"id\":\"1004\"},\"y_scale\":{\"id\":\"1008\"}},\"id\":\"1001\",\"subtype\":\"Figure\",\"type\":\"Plot\"},{\"attributes\":{},\"id\":\"1155\",\"type\":\"ResetTool\"},{\"attributes\":{\"items\":[{\"id\":\"1116\"},{\"id\":\"1134\"}],\"orientation\":\"horizontal\"},\"id\":\"1115\",\"type\":\"Legend\"},{\"attributes\":{\"data\":{\"False\":[8053,2369],\"True\":[1409,499],\"categories\":[\"False\",\"True\"],\"index\":[0,1]},\"selected\":{\"id\":\"1400\"},\"selection_policy\":{\"id\":\"1399\"}},\"id\":\"1385\",\"type\":\"ColumnDataSource\"},{\"attributes\":{\"range\":{\"id\":\"1136\"},\"value\":-0.15},\"id\":\"1165\",\"type\":\"Dodge\"},{\"attributes\":{},\"id\":\"1156\",\"type\":\"HelpTool\"},{\"attributes\":{\"label\":{\"value\":\"False\"},\"renderers\":[{\"id\":\"1104\"}]},\"id\":\"1116\",\"type\":\"LegendItem\"},{\"attributes\":{\"label\":{\"value\":\"False\"},\"renderers\":[{\"id\":\"1372\"}]},\"id\":\"1384\",\"type\":\"LegendItem\"},{\"attributes\":{\"factors\":[\"1\",\"2\",\"3\",\"4\",\"5\",\"6\",\"7\",\"8\"]},\"id\":\"1069\",\"type\":\"FactorRange\"},{\"attributes\":{\"bottom_units\":\"screen\",\"fill_alpha\":0.5,\"fill_color\":\"lightgrey\",\"left_units\":\"screen\",\"level\":\"overlay\",\"line_alpha\":1.0,\"line_color\":\"black\",\"line_dash\":[4,4],\"line_width\":2,\"right_units\":\"screen\",\"top_units\":\"screen\"},\"id\":\"1358\",\"type\":\"BoxAnnotation\"},{\"attributes\":{\"data\":{\"False\":[2206,5446,2287,393,5,17,6,62],\"True\":[379,1155,268,85,1,2,1,17],\"categories\":[\"1\",\"2\",\"3\",\"4\",\"5\",\"6\",\"7\",\"8\"],\"index\":[0,1,2,3,4,5,6,7]},\"selected\":{\"id\":\"1132\"},\"selection_policy\":{\"id\":\"1131\"}},\"id\":\"1117\",\"type\":\"ColumnDataSource\"},{\"attributes\":{\"active_drag\":\"auto\",\"active_inspect\":\"auto\",\"active_multi\":null,\"active_scroll\":\"auto\",\"active_tap\":\"auto\",\"tools\":[{\"id\":\"1151\"},{\"id\":\"1152\"},{\"id\":\"1153\"},{\"id\":\"1154\"},{\"id\":\"1155\"},{\"id\":\"1156\"}]},\"id\":\"1158\",\"type\":\"Toolbar\"},{\"attributes\":{},\"id\":\"1078\",\"type\":\"CategoricalTicker\"},{\"attributes\":{\"below\":[{\"id\":\"1144\"}],\"center\":[{\"id\":\"1146\"},{\"id\":\"1150\"},{\"id\":\"1182\"}],\"left\":[{\"id\":\"1147\"}],\"plot_height\":250,\"renderers\":[{\"id\":\"1171\"},{\"id\":\"1188\"}],\"title\":{\"id\":\"1174\"},\"toolbar\":{\"id\":\"1158\"},\"toolbar_location\":null,\"x_range\":{\"id\":\"1136\"},\"x_scale\":{\"id\":\"1140\"},\"y_range\":{\"id\":\"1138\"},\"y_scale\":{\"id\":\"1142\"}},\"id\":\"1135\",\"subtype\":\"Figure\",\"type\":\"Plot\"},{\"attributes\":{\"axis\":{\"id\":\"1077\"},\"ticker\":null},\"id\":\"1079\",\"type\":\"Grid\"},{\"attributes\":{\"fill_alpha\":{\"value\":0.1},\"fill_color\":{\"value\":\"indigo\"},\"line_alpha\":{\"value\":0.1},\"line_color\":{\"value\":\"indigo\"},\"top\":{\"field\":\"True\"},\"width\":{\"value\":0.2},\"x\":{\"field\":\"categories\",\"transform\":{\"id\":\"1099\"}}},\"id\":\"1120\",\"type\":\"VBar\"},{\"attributes\":{\"fill_alpha\":{\"value\":0.1},\"fill_color\":{\"value\":\"olive\"},\"line_alpha\":{\"value\":0.1},\"line_color\":{\"value\":\"olive\"},\"top\":{\"field\":\"False\"},\"width\":{\"value\":0.2},\"x\":{\"field\":\"categories\",\"transform\":{\"id\":\"1366\"}}},\"id\":\"1371\",\"type\":\"VBar\"},{\"attributes\":{\"bottom_units\":\"screen\",\"fill_alpha\":0.5,\"fill_color\":\"lightgrey\",\"left_units\":\"screen\",\"level\":\"overlay\",\"line_alpha\":1.0,\"line_color\":\"black\",\"line_dash\":[4,4],\"line_width\":2,\"right_units\":\"screen\",\"top_units\":\"screen\"},\"id\":\"1157\",\"type\":\"BoxAnnotation\"},{\"attributes\":{\"fill_color\":{\"value\":\"indigo\"},\"line_color\":{\"value\":\"indigo\"},\"top\":{\"field\":\"True\"},\"width\":{\"value\":0.2},\"x\":{\"field\":\"categories\",\"transform\":{\"id\":\"1099\"}}},\"id\":\"1119\",\"type\":\"VBar\"},{\"attributes\":{\"data_source\":{\"id\":\"1117\"},\"glyph\":{\"id\":\"1119\"},\"hover_glyph\":null,\"muted_glyph\":null,\"nonselection_glyph\":{\"id\":\"1120\"},\"selection_glyph\":null,\"view\":{\"id\":\"1122\"}},\"id\":\"1121\",\"type\":\"GlyphRenderer\"},{\"attributes\":{\"fill_color\":{\"value\":\"olive\"},\"line_color\":{\"value\":\"olive\"},\"top\":{\"field\":\"False\"},\"width\":{\"value\":0.2},\"x\":{\"field\":\"categories\",\"transform\":{\"id\":\"1366\"}}},\"id\":\"1370\",\"type\":\"VBar\"},{\"attributes\":{},\"id\":\"1073\",\"type\":\"CategoricalScale\"},{\"attributes\":{\"data_source\":{\"id\":\"1368\"},\"glyph\":{\"id\":\"1370\"},\"hover_glyph\":null,\"muted_glyph\":null,\"nonselection_glyph\":{\"id\":\"1371\"},\"selection_glyph\":null,\"view\":{\"id\":\"1373\"}},\"id\":\"1372\",\"type\":\"GlyphRenderer\"},{\"attributes\":{},\"id\":\"1131\",\"type\":\"UnionRenderers\"},{\"attributes\":{\"text\":\"\"},\"id\":\"1375\",\"type\":\"Title\"},{\"attributes\":{\"fill_alpha\":{\"value\":0.1},\"fill_color\":{\"value\":\"olive\"},\"line_alpha\":{\"value\":0.1},\"line_color\":{\"value\":\"olive\"},\"top\":{\"field\":\"False\"},\"width\":{\"value\":0.2},\"x\":{\"field\":\"categories\",\"transform\":{\"id\":\"1165\"}}},\"id\":\"1170\",\"type\":\"VBar\"},{\"attributes\":{\"formatter\":{\"id\":\"1110\"},\"ticker\":{\"id\":\"1081\"}},\"id\":\"1080\",\"type\":\"LinearAxis\"},{\"attributes\":{\"fill_color\":{\"value\":\"olive\"},\"line_color\":{\"value\":\"olive\"},\"top\":{\"field\":\"False\"},\"width\":{\"value\":0.2},\"x\":{\"field\":\"categories\",\"transform\":{\"id\":\"1165\"}}},\"id\":\"1169\",\"type\":\"VBar\"},{\"attributes\":{},\"id\":\"1075\",\"type\":\"LinearScale\"},{\"attributes\":{\"data_source\":{\"id\":\"1167\"},\"glyph\":{\"id\":\"1169\"},\"hover_glyph\":null,\"muted_glyph\":null,\"nonselection_glyph\":{\"id\":\"1170\"},\"selection_glyph\":null,\"view\":{\"id\":\"1172\"}},\"id\":\"1171\",\"type\":\"GlyphRenderer\"},{\"attributes\":{\"items\":[{\"id\":\"1384\"},{\"id\":\"1402\"}],\"orientation\":\"horizontal\"},\"id\":\"1383\",\"type\":\"Legend\"},{\"attributes\":{\"source\":{\"id\":\"1117\"}},\"id\":\"1122\",\"type\":\"CDSView\"},{\"attributes\":{\"text\":\"\"},\"id\":\"1174\",\"type\":\"Title\"},{\"attributes\":{\"source\":{\"id\":\"1368\"}},\"id\":\"1373\",\"type\":\"CDSView\"},{\"attributes\":{\"axis\":{\"id\":\"1080\"},\"dimension\":1,\"ticker\":null},\"id\":\"1083\",\"type\":\"Grid\"},{\"attributes\":{},\"id\":\"1132\",\"type\":\"Selection\"},{\"attributes\":{\"end\":5696},\"id\":\"1071\",\"type\":\"Range1d\"},{\"attributes\":{\"source\":{\"id\":\"1167\"}},\"id\":\"1172\",\"type\":\"CDSView\"},{\"attributes\":{},\"id\":\"1376\",\"type\":\"CategoricalTickFormatter\"},{\"attributes\":{\"label\":{\"value\":\"True\"},\"renderers\":[{\"id\":\"1121\"}]},\"id\":\"1134\",\"type\":\"LegendItem\"},{\"attributes\":{\"factors\":[\"Aug\",\"Dec\",\"Feb\",\"Jul\",\"June\",\"Mar\",\"May\",\"Nov\",\"Oct\",\"Sep\"]},\"id\":\"1002\",\"type\":\"FactorRange\"},{\"attributes\":{},\"id\":\"1081\",\"type\":\"BasicTicker\"},{\"attributes\":{},\"id\":\"1378\",\"type\":\"BasicTickFormatter\"},{\"attributes\":{\"formatter\":{\"id\":\"1108\"},\"ticker\":{\"id\":\"1078\"}},\"id\":\"1077\",\"type\":\"CategoricalAxis\"},{\"attributes\":{},\"id\":\"1175\",\"type\":\"CategoricalTickFormatter\"},{\"attributes\":{\"range\":{\"id\":\"1069\"},\"value\":-0.15},\"id\":\"1098\",\"type\":\"Dodge\"},{\"attributes\":{},\"id\":\"1380\",\"type\":\"UnionRenderers\"},{\"attributes\":{},\"id\":\"1177\",\"type\":\"BasicTickFormatter\"}],\"root_ids\":[\"1478\"]},\"title\":\"Bokeh Application\",\"version\":\"2.1.1\"}};\n",
              "  var render_items = [{\"docid\":\"803e75c7-8d85-4cc8-b483-dbe3d9111201\",\"root_ids\":[\"1478\"],\"roots\":{\"1478\":\"473e286d-639b-4c57-8b6f-0361f71067cc\"}}];\n",
              "  root.Bokeh.embed.embed_items_notebook(docs_json, render_items);\n",
              "\n",
              "  }\n",
              "  if (root.Bokeh !== undefined) {\n",
              "    embed_document(root);\n",
              "  } else {\n",
              "    var attempts = 0;\n",
              "    var timer = setInterval(function(root) {\n",
              "      if (root.Bokeh !== undefined) {\n",
              "        clearInterval(timer);\n",
              "        embed_document(root);\n",
              "      } else {\n",
              "        attempts++;\n",
              "        if (attempts > 100) {\n",
              "          clearInterval(timer);\n",
              "          console.log(\"Bokeh: ERROR: Unable to run BokehJS code because BokehJS library is missing\");\n",
              "        }\n",
              "      }\n",
              "    }, 10, root)\n",
              "  }\n",
              "})(window);"
            ],
            "application/vnd.bokehjs_exec.v0+json": ""
          },
          "metadata": {
            "tags": [],
            "application/vnd.bokehjs_exec.v0+json": {
              "id": "1478"
            }
          }
        }
      ]
    },
    {
      "cell_type": "markdown",
      "metadata": {
        "id": "PtZuhQeFRDWs"
      },
      "source": [
        "**Ces graphes montrent la répartition des classes de chaque variable catégorielle dans les 2 classes de la variables cible 'Revenue'.**"
      ]
    },
    {
      "cell_type": "markdown",
      "metadata": {
        "id": "F2eAS2HSRDWs"
      },
      "source": [
        "# `Data preprocessing`"
      ]
    },
    {
      "cell_type": "markdown",
      "metadata": {
        "id": "R7V25EVORDWt"
      },
      "source": [
        "### Features  selection\n",
        "\n",
        "On peut retirer les variables qui ne serveront pas: ce sont **'ProductRelated'** et **'ExitRates'** pour les variables numériques et la variable **'Region'** pour les variables catégorielles. "
      ]
    },
    {
      "cell_type": "code",
      "metadata": {
        "id": "d_YNkLn3RDWt"
      },
      "source": [
        "data_new = data_original.copy()\n",
        "\n",
        "del(data_new['ProductRelated'])\n",
        "del(data_new['ExitRates'])\n",
        "del(data_new['Region'])\n",
        "\n",
        "#data_new.info()"
      ],
      "execution_count": 23,
      "outputs": []
    },
    {
      "cell_type": "markdown",
      "metadata": {
        "id": "StOZbgHQRDWt"
      },
      "source": [
        "### Création de nouvelles variables à partir de variables existantes"
      ]
    },
    {
      "cell_type": "markdown",
      "metadata": {
        "id": "-HcUUKwMRDWt"
      },
      "source": [
        "Nous créons 2 nouvelles variables à partir des variables déjà existantes:\n",
        "- **ratio_administrative**: C'est le ratio des variables Administrative_Duration et Administrative, correlées à 0.6. La nouvelle variable peut être interpretée comme le temps passé par page dans la catégorie Administrative.\n",
        "- **ratio_informational**: C'est le ratio des variables Informational_Duration et Informational, correlées à 0.62. La nouvelle variable peut être interpretée comme le temps passé par page dans la catégorie Informational."
      ]
    },
    {
      "cell_type": "code",
      "metadata": {
        "id": "8wh7WLgWRDWu",
        "colab": {
          "base_uri": "https://localhost:8080/",
          "height": 206
        },
        "outputId": "5ae26963-014d-4958-d2a6-d0b2fb7905dc"
      },
      "source": [
        "data_new['ratio_administrative'] = data_new['Administrative_Duration']/data_new['Administrative']\n",
        "data_new['ratio_administrative'] = data_new['ratio_administrative'].fillna(0)\n",
        "\n",
        "data_new['ratio_informational'] = data_new['Informational_Duration']/data_new['Informational']\n",
        "data_new['ratio_informational'] = data_new['ratio_informational'].fillna(0)\n",
        "\n",
        "# Suppression des varaibles qui nous ont servi à en créer de nouvelles\n",
        "del(data_new['Administrative'])\n",
        "del(data_new['Administrative_Duration'])\n",
        "del(data_new['Informational'])\n",
        "del(data_new['Informational_Duration'])\n",
        "\n",
        "data_new.head()"
      ],
      "execution_count": 24,
      "outputs": [
        {
          "output_type": "execute_result",
          "data": {
            "text/html": [
              "<div>\n",
              "<style scoped>\n",
              "    .dataframe tbody tr th:only-of-type {\n",
              "        vertical-align: middle;\n",
              "    }\n",
              "\n",
              "    .dataframe tbody tr th {\n",
              "        vertical-align: top;\n",
              "    }\n",
              "\n",
              "    .dataframe thead th {\n",
              "        text-align: right;\n",
              "    }\n",
              "</style>\n",
              "<table border=\"1\" class=\"dataframe\">\n",
              "  <thead>\n",
              "    <tr style=\"text-align: right;\">\n",
              "      <th></th>\n",
              "      <th>ProductRelated_Duration</th>\n",
              "      <th>BounceRates</th>\n",
              "      <th>PageValues</th>\n",
              "      <th>SpecialDay</th>\n",
              "      <th>Month</th>\n",
              "      <th>OperatingSystems</th>\n",
              "      <th>Browser</th>\n",
              "      <th>TrafficType</th>\n",
              "      <th>VisitorType</th>\n",
              "      <th>Weekend</th>\n",
              "      <th>Revenue</th>\n",
              "      <th>ratio_administrative</th>\n",
              "      <th>ratio_informational</th>\n",
              "    </tr>\n",
              "  </thead>\n",
              "  <tbody>\n",
              "    <tr>\n",
              "      <th>0</th>\n",
              "      <td>0.000000</td>\n",
              "      <td>0.20</td>\n",
              "      <td>0.0</td>\n",
              "      <td>0.0</td>\n",
              "      <td>Feb</td>\n",
              "      <td>1</td>\n",
              "      <td>1</td>\n",
              "      <td>1</td>\n",
              "      <td>Returning_Visitor</td>\n",
              "      <td>False</td>\n",
              "      <td>False</td>\n",
              "      <td>0.0</td>\n",
              "      <td>0.0</td>\n",
              "    </tr>\n",
              "    <tr>\n",
              "      <th>1</th>\n",
              "      <td>64.000000</td>\n",
              "      <td>0.00</td>\n",
              "      <td>0.0</td>\n",
              "      <td>0.0</td>\n",
              "      <td>Feb</td>\n",
              "      <td>2</td>\n",
              "      <td>2</td>\n",
              "      <td>2</td>\n",
              "      <td>Returning_Visitor</td>\n",
              "      <td>False</td>\n",
              "      <td>False</td>\n",
              "      <td>0.0</td>\n",
              "      <td>0.0</td>\n",
              "    </tr>\n",
              "    <tr>\n",
              "      <th>2</th>\n",
              "      <td>0.000000</td>\n",
              "      <td>0.20</td>\n",
              "      <td>0.0</td>\n",
              "      <td>0.0</td>\n",
              "      <td>Feb</td>\n",
              "      <td>4</td>\n",
              "      <td>1</td>\n",
              "      <td>3</td>\n",
              "      <td>Returning_Visitor</td>\n",
              "      <td>False</td>\n",
              "      <td>False</td>\n",
              "      <td>0.0</td>\n",
              "      <td>0.0</td>\n",
              "    </tr>\n",
              "    <tr>\n",
              "      <th>3</th>\n",
              "      <td>2.666667</td>\n",
              "      <td>0.05</td>\n",
              "      <td>0.0</td>\n",
              "      <td>0.0</td>\n",
              "      <td>Feb</td>\n",
              "      <td>3</td>\n",
              "      <td>2</td>\n",
              "      <td>4</td>\n",
              "      <td>Returning_Visitor</td>\n",
              "      <td>False</td>\n",
              "      <td>False</td>\n",
              "      <td>0.0</td>\n",
              "      <td>0.0</td>\n",
              "    </tr>\n",
              "    <tr>\n",
              "      <th>4</th>\n",
              "      <td>627.500000</td>\n",
              "      <td>0.02</td>\n",
              "      <td>0.0</td>\n",
              "      <td>0.0</td>\n",
              "      <td>Feb</td>\n",
              "      <td>3</td>\n",
              "      <td>3</td>\n",
              "      <td>4</td>\n",
              "      <td>Returning_Visitor</td>\n",
              "      <td>True</td>\n",
              "      <td>False</td>\n",
              "      <td>0.0</td>\n",
              "      <td>0.0</td>\n",
              "    </tr>\n",
              "  </tbody>\n",
              "</table>\n",
              "</div>"
            ],
            "text/plain": [
              "   ProductRelated_Duration  ...  ratio_informational\n",
              "0                 0.000000  ...                  0.0\n",
              "1                64.000000  ...                  0.0\n",
              "2                 0.000000  ...                  0.0\n",
              "3                 2.666667  ...                  0.0\n",
              "4               627.500000  ...                  0.0\n",
              "\n",
              "[5 rows x 13 columns]"
            ]
          },
          "metadata": {
            "tags": []
          },
          "execution_count": 24
        }
      ]
    },
    {
      "cell_type": "markdown",
      "metadata": {
        "id": "CgFg27NGRDWu"
      },
      "source": [
        "### Dummies variables à partir des variables catégorielles"
      ]
    },
    {
      "cell_type": "code",
      "metadata": {
        "id": "b7ik1c17RDWv",
        "colab": {
          "base_uri": "https://localhost:8080/",
          "height": 226
        },
        "outputId": "c445f7d7-dbe9-4d9f-9ea9-512e679f406c"
      },
      "source": [
        "# Variable 'Month'\n",
        "dummies = pd.get_dummies(data_new['Month'],drop_first=True, prefix='Month', prefix_sep='_')\n",
        "data_new = pd.concat([data_new, dummies], axis=1)\n",
        "del(data_new['Month'])\n",
        "\n",
        "# Variable 'OperatingSystems'\n",
        "dummies = pd.get_dummies(data_new['OperatingSystems'],drop_first=True, prefix='OperatingSystems', prefix_sep='_')\n",
        "data_new = pd.concat([data_new, dummies], axis=1)\n",
        "del(data_new['OperatingSystems'])\n",
        "\n",
        "# Variable 'Browser'\n",
        "dummies = pd.get_dummies(data_new['Browser'],drop_first=True, prefix='browser', prefix_sep='_')\n",
        "data_new = pd.concat([data_new, dummies], axis=1)\n",
        "del(data_new['Browser'])\n",
        "\n",
        "# Variable 'TrafficType'\n",
        "dummies = pd.get_dummies(data_new['TrafficType'],drop_first=True, prefix='TrafficType', prefix_sep='_')\n",
        "data_new = pd.concat([data_new, dummies], axis=1)\n",
        "del(data_new['TrafficType'])\n",
        "\n",
        "# Variable 'VisitorType'\n",
        "dummies = pd.get_dummies(data_new['VisitorType'],drop_first=True, prefix='VisitorType', prefix_sep='_')\n",
        "data_new = pd.concat([data_new, dummies], axis=1)\n",
        "del(data_new['VisitorType'])\n",
        "\n",
        "# Variable 'Weekend'\n",
        "dummies = pd.get_dummies(data_new['Weekend'],drop_first=True, prefix='Weekend', prefix_sep='_')\n",
        "data_new = pd.concat([data_new, dummies], axis=1)\n",
        "del(data_new['Weekend'])\n",
        "\n",
        "# Juste remettre la colonne de la variable target à la fin et le convertir en 1 et 0\n",
        "temp = data_new['Revenue']\n",
        "del(data_new['Revenue'])\n",
        "data_new['Revenue'] = temp\n",
        "data_new['Revenue'] = data_new['Revenue'].astype('int')\n",
        "\n",
        "data_new.head()"
      ],
      "execution_count": 25,
      "outputs": [
        {
          "output_type": "execute_result",
          "data": {
            "text/html": [
              "<div>\n",
              "<style scoped>\n",
              "    .dataframe tbody tr th:only-of-type {\n",
              "        vertical-align: middle;\n",
              "    }\n",
              "\n",
              "    .dataframe tbody tr th {\n",
              "        vertical-align: top;\n",
              "    }\n",
              "\n",
              "    .dataframe thead th {\n",
              "        text-align: right;\n",
              "    }\n",
              "</style>\n",
              "<table border=\"1\" class=\"dataframe\">\n",
              "  <thead>\n",
              "    <tr style=\"text-align: right;\">\n",
              "      <th></th>\n",
              "      <th>ProductRelated_Duration</th>\n",
              "      <th>BounceRates</th>\n",
              "      <th>PageValues</th>\n",
              "      <th>SpecialDay</th>\n",
              "      <th>ratio_administrative</th>\n",
              "      <th>ratio_informational</th>\n",
              "      <th>Month_Dec</th>\n",
              "      <th>Month_Feb</th>\n",
              "      <th>Month_Jul</th>\n",
              "      <th>Month_June</th>\n",
              "      <th>Month_Mar</th>\n",
              "      <th>Month_May</th>\n",
              "      <th>Month_Nov</th>\n",
              "      <th>Month_Oct</th>\n",
              "      <th>Month_Sep</th>\n",
              "      <th>OperatingSystems_2</th>\n",
              "      <th>OperatingSystems_3</th>\n",
              "      <th>OperatingSystems_4</th>\n",
              "      <th>OperatingSystems_5</th>\n",
              "      <th>OperatingSystems_6</th>\n",
              "      <th>OperatingSystems_7</th>\n",
              "      <th>OperatingSystems_8</th>\n",
              "      <th>browser_2</th>\n",
              "      <th>browser_3</th>\n",
              "      <th>browser_4</th>\n",
              "      <th>browser_5</th>\n",
              "      <th>browser_6</th>\n",
              "      <th>browser_7</th>\n",
              "      <th>browser_8</th>\n",
              "      <th>browser_9</th>\n",
              "      <th>browser_10</th>\n",
              "      <th>browser_11</th>\n",
              "      <th>browser_12</th>\n",
              "      <th>browser_13</th>\n",
              "      <th>TrafficType_2</th>\n",
              "      <th>TrafficType_3</th>\n",
              "      <th>TrafficType_4</th>\n",
              "      <th>TrafficType_5</th>\n",
              "      <th>TrafficType_6</th>\n",
              "      <th>TrafficType_7</th>\n",
              "      <th>TrafficType_8</th>\n",
              "      <th>TrafficType_9</th>\n",
              "      <th>TrafficType_10</th>\n",
              "      <th>TrafficType_11</th>\n",
              "      <th>TrafficType_12</th>\n",
              "      <th>TrafficType_13</th>\n",
              "      <th>TrafficType_14</th>\n",
              "      <th>TrafficType_15</th>\n",
              "      <th>TrafficType_16</th>\n",
              "      <th>TrafficType_17</th>\n",
              "      <th>TrafficType_18</th>\n",
              "      <th>TrafficType_19</th>\n",
              "      <th>TrafficType_20</th>\n",
              "      <th>VisitorType_Other</th>\n",
              "      <th>VisitorType_Returning_Visitor</th>\n",
              "      <th>Weekend_True</th>\n",
              "      <th>Revenue</th>\n",
              "    </tr>\n",
              "  </thead>\n",
              "  <tbody>\n",
              "    <tr>\n",
              "      <th>0</th>\n",
              "      <td>0.000000</td>\n",
              "      <td>0.20</td>\n",
              "      <td>0.0</td>\n",
              "      <td>0.0</td>\n",
              "      <td>0.0</td>\n",
              "      <td>0.0</td>\n",
              "      <td>0</td>\n",
              "      <td>1</td>\n",
              "      <td>0</td>\n",
              "      <td>0</td>\n",
              "      <td>0</td>\n",
              "      <td>0</td>\n",
              "      <td>0</td>\n",
              "      <td>0</td>\n",
              "      <td>0</td>\n",
              "      <td>0</td>\n",
              "      <td>0</td>\n",
              "      <td>0</td>\n",
              "      <td>0</td>\n",
              "      <td>0</td>\n",
              "      <td>0</td>\n",
              "      <td>0</td>\n",
              "      <td>0</td>\n",
              "      <td>0</td>\n",
              "      <td>0</td>\n",
              "      <td>0</td>\n",
              "      <td>0</td>\n",
              "      <td>0</td>\n",
              "      <td>0</td>\n",
              "      <td>0</td>\n",
              "      <td>0</td>\n",
              "      <td>0</td>\n",
              "      <td>0</td>\n",
              "      <td>0</td>\n",
              "      <td>0</td>\n",
              "      <td>0</td>\n",
              "      <td>0</td>\n",
              "      <td>0</td>\n",
              "      <td>0</td>\n",
              "      <td>0</td>\n",
              "      <td>0</td>\n",
              "      <td>0</td>\n",
              "      <td>0</td>\n",
              "      <td>0</td>\n",
              "      <td>0</td>\n",
              "      <td>0</td>\n",
              "      <td>0</td>\n",
              "      <td>0</td>\n",
              "      <td>0</td>\n",
              "      <td>0</td>\n",
              "      <td>0</td>\n",
              "      <td>0</td>\n",
              "      <td>0</td>\n",
              "      <td>0</td>\n",
              "      <td>1</td>\n",
              "      <td>0</td>\n",
              "      <td>0</td>\n",
              "    </tr>\n",
              "    <tr>\n",
              "      <th>1</th>\n",
              "      <td>64.000000</td>\n",
              "      <td>0.00</td>\n",
              "      <td>0.0</td>\n",
              "      <td>0.0</td>\n",
              "      <td>0.0</td>\n",
              "      <td>0.0</td>\n",
              "      <td>0</td>\n",
              "      <td>1</td>\n",
              "      <td>0</td>\n",
              "      <td>0</td>\n",
              "      <td>0</td>\n",
              "      <td>0</td>\n",
              "      <td>0</td>\n",
              "      <td>0</td>\n",
              "      <td>0</td>\n",
              "      <td>1</td>\n",
              "      <td>0</td>\n",
              "      <td>0</td>\n",
              "      <td>0</td>\n",
              "      <td>0</td>\n",
              "      <td>0</td>\n",
              "      <td>0</td>\n",
              "      <td>1</td>\n",
              "      <td>0</td>\n",
              "      <td>0</td>\n",
              "      <td>0</td>\n",
              "      <td>0</td>\n",
              "      <td>0</td>\n",
              "      <td>0</td>\n",
              "      <td>0</td>\n",
              "      <td>0</td>\n",
              "      <td>0</td>\n",
              "      <td>0</td>\n",
              "      <td>0</td>\n",
              "      <td>1</td>\n",
              "      <td>0</td>\n",
              "      <td>0</td>\n",
              "      <td>0</td>\n",
              "      <td>0</td>\n",
              "      <td>0</td>\n",
              "      <td>0</td>\n",
              "      <td>0</td>\n",
              "      <td>0</td>\n",
              "      <td>0</td>\n",
              "      <td>0</td>\n",
              "      <td>0</td>\n",
              "      <td>0</td>\n",
              "      <td>0</td>\n",
              "      <td>0</td>\n",
              "      <td>0</td>\n",
              "      <td>0</td>\n",
              "      <td>0</td>\n",
              "      <td>0</td>\n",
              "      <td>0</td>\n",
              "      <td>1</td>\n",
              "      <td>0</td>\n",
              "      <td>0</td>\n",
              "    </tr>\n",
              "    <tr>\n",
              "      <th>2</th>\n",
              "      <td>0.000000</td>\n",
              "      <td>0.20</td>\n",
              "      <td>0.0</td>\n",
              "      <td>0.0</td>\n",
              "      <td>0.0</td>\n",
              "      <td>0.0</td>\n",
              "      <td>0</td>\n",
              "      <td>1</td>\n",
              "      <td>0</td>\n",
              "      <td>0</td>\n",
              "      <td>0</td>\n",
              "      <td>0</td>\n",
              "      <td>0</td>\n",
              "      <td>0</td>\n",
              "      <td>0</td>\n",
              "      <td>0</td>\n",
              "      <td>0</td>\n",
              "      <td>1</td>\n",
              "      <td>0</td>\n",
              "      <td>0</td>\n",
              "      <td>0</td>\n",
              "      <td>0</td>\n",
              "      <td>0</td>\n",
              "      <td>0</td>\n",
              "      <td>0</td>\n",
              "      <td>0</td>\n",
              "      <td>0</td>\n",
              "      <td>0</td>\n",
              "      <td>0</td>\n",
              "      <td>0</td>\n",
              "      <td>0</td>\n",
              "      <td>0</td>\n",
              "      <td>0</td>\n",
              "      <td>0</td>\n",
              "      <td>0</td>\n",
              "      <td>1</td>\n",
              "      <td>0</td>\n",
              "      <td>0</td>\n",
              "      <td>0</td>\n",
              "      <td>0</td>\n",
              "      <td>0</td>\n",
              "      <td>0</td>\n",
              "      <td>0</td>\n",
              "      <td>0</td>\n",
              "      <td>0</td>\n",
              "      <td>0</td>\n",
              "      <td>0</td>\n",
              "      <td>0</td>\n",
              "      <td>0</td>\n",
              "      <td>0</td>\n",
              "      <td>0</td>\n",
              "      <td>0</td>\n",
              "      <td>0</td>\n",
              "      <td>0</td>\n",
              "      <td>1</td>\n",
              "      <td>0</td>\n",
              "      <td>0</td>\n",
              "    </tr>\n",
              "    <tr>\n",
              "      <th>3</th>\n",
              "      <td>2.666667</td>\n",
              "      <td>0.05</td>\n",
              "      <td>0.0</td>\n",
              "      <td>0.0</td>\n",
              "      <td>0.0</td>\n",
              "      <td>0.0</td>\n",
              "      <td>0</td>\n",
              "      <td>1</td>\n",
              "      <td>0</td>\n",
              "      <td>0</td>\n",
              "      <td>0</td>\n",
              "      <td>0</td>\n",
              "      <td>0</td>\n",
              "      <td>0</td>\n",
              "      <td>0</td>\n",
              "      <td>0</td>\n",
              "      <td>1</td>\n",
              "      <td>0</td>\n",
              "      <td>0</td>\n",
              "      <td>0</td>\n",
              "      <td>0</td>\n",
              "      <td>0</td>\n",
              "      <td>1</td>\n",
              "      <td>0</td>\n",
              "      <td>0</td>\n",
              "      <td>0</td>\n",
              "      <td>0</td>\n",
              "      <td>0</td>\n",
              "      <td>0</td>\n",
              "      <td>0</td>\n",
              "      <td>0</td>\n",
              "      <td>0</td>\n",
              "      <td>0</td>\n",
              "      <td>0</td>\n",
              "      <td>0</td>\n",
              "      <td>0</td>\n",
              "      <td>1</td>\n",
              "      <td>0</td>\n",
              "      <td>0</td>\n",
              "      <td>0</td>\n",
              "      <td>0</td>\n",
              "      <td>0</td>\n",
              "      <td>0</td>\n",
              "      <td>0</td>\n",
              "      <td>0</td>\n",
              "      <td>0</td>\n",
              "      <td>0</td>\n",
              "      <td>0</td>\n",
              "      <td>0</td>\n",
              "      <td>0</td>\n",
              "      <td>0</td>\n",
              "      <td>0</td>\n",
              "      <td>0</td>\n",
              "      <td>0</td>\n",
              "      <td>1</td>\n",
              "      <td>0</td>\n",
              "      <td>0</td>\n",
              "    </tr>\n",
              "    <tr>\n",
              "      <th>4</th>\n",
              "      <td>627.500000</td>\n",
              "      <td>0.02</td>\n",
              "      <td>0.0</td>\n",
              "      <td>0.0</td>\n",
              "      <td>0.0</td>\n",
              "      <td>0.0</td>\n",
              "      <td>0</td>\n",
              "      <td>1</td>\n",
              "      <td>0</td>\n",
              "      <td>0</td>\n",
              "      <td>0</td>\n",
              "      <td>0</td>\n",
              "      <td>0</td>\n",
              "      <td>0</td>\n",
              "      <td>0</td>\n",
              "      <td>0</td>\n",
              "      <td>1</td>\n",
              "      <td>0</td>\n",
              "      <td>0</td>\n",
              "      <td>0</td>\n",
              "      <td>0</td>\n",
              "      <td>0</td>\n",
              "      <td>0</td>\n",
              "      <td>1</td>\n",
              "      <td>0</td>\n",
              "      <td>0</td>\n",
              "      <td>0</td>\n",
              "      <td>0</td>\n",
              "      <td>0</td>\n",
              "      <td>0</td>\n",
              "      <td>0</td>\n",
              "      <td>0</td>\n",
              "      <td>0</td>\n",
              "      <td>0</td>\n",
              "      <td>0</td>\n",
              "      <td>0</td>\n",
              "      <td>1</td>\n",
              "      <td>0</td>\n",
              "      <td>0</td>\n",
              "      <td>0</td>\n",
              "      <td>0</td>\n",
              "      <td>0</td>\n",
              "      <td>0</td>\n",
              "      <td>0</td>\n",
              "      <td>0</td>\n",
              "      <td>0</td>\n",
              "      <td>0</td>\n",
              "      <td>0</td>\n",
              "      <td>0</td>\n",
              "      <td>0</td>\n",
              "      <td>0</td>\n",
              "      <td>0</td>\n",
              "      <td>0</td>\n",
              "      <td>0</td>\n",
              "      <td>1</td>\n",
              "      <td>1</td>\n",
              "      <td>0</td>\n",
              "    </tr>\n",
              "  </tbody>\n",
              "</table>\n",
              "</div>"
            ],
            "text/plain": [
              "   ProductRelated_Duration  BounceRates  ...  Weekend_True  Revenue\n",
              "0                 0.000000         0.20  ...             0        0\n",
              "1                64.000000         0.00  ...             0        0\n",
              "2                 0.000000         0.20  ...             0        0\n",
              "3                 2.666667         0.05  ...             0        0\n",
              "4               627.500000         0.02  ...             1        0\n",
              "\n",
              "[5 rows x 57 columns]"
            ]
          },
          "metadata": {
            "tags": []
          },
          "execution_count": 25
        }
      ]
    },
    {
      "cell_type": "code",
      "metadata": {
        "id": "P6zKaoqQRDWv"
      },
      "source": [
        "features = data_new.iloc[:,0:56].columns.to_list()\n",
        "target = 'Revenue'"
      ],
      "execution_count": 26,
      "outputs": []
    },
    {
      "cell_type": "markdown",
      "metadata": {
        "id": "Cfu7-ux5RDWw"
      },
      "source": [
        "### Partionnement des données en set de train et set de test"
      ]
    },
    {
      "cell_type": "code",
      "metadata": {
        "id": "swdr5y7URDWw"
      },
      "source": [
        "X = data_new.iloc[:,0:56].values\n",
        "Y = data_new.iloc[:,56].values\n",
        "\n",
        "\n",
        "X_train, X_test, y_train, y_test = train_test_split(X, Y, test_size = 0.3, random_state = 0, stratify=Y)"
      ],
      "execution_count": 27,
      "outputs": []
    },
    {
      "cell_type": "markdown",
      "metadata": {
        "id": "LXd3kXG9RDWw"
      },
      "source": [
        "### Normalisation des données"
      ]
    },
    {
      "cell_type": "code",
      "metadata": {
        "id": "6-bsnpxnRDWw"
      },
      "source": [
        "from sklearn.preprocessing import MinMaxScaler\n",
        "\n",
        "ms = MinMaxScaler()\n",
        "\n",
        "X_train = ms.fit_transform(X_train)\n",
        "X_test = ms.transform(X_test)"
      ],
      "execution_count": 28,
      "outputs": []
    },
    {
      "cell_type": "markdown",
      "metadata": {
        "id": "u3RtXITMRDWw"
      },
      "source": [
        "# `Modelisation`"
      ]
    },
    {
      "cell_type": "markdown",
      "metadata": {
        "id": "ZZk3aM84RDWw"
      },
      "source": [
        "## **(1) Modèle KNN**"
      ]
    },
    {
      "cell_type": "code",
      "metadata": {
        "id": "SqxGWroeRDWx",
        "colab": {
          "base_uri": "https://localhost:8080/",
          "height": 406
        },
        "outputId": "911efa4a-c995-41d2-b654-2b1dc2838007"
      },
      "source": [
        "from sklearn.neighbors import KNeighborsClassifier\n",
        "\n",
        "# Liste de différentes valeurs pour le parametre n_neighbors\n",
        "n_neighbors_list = np.arange(2,10)\n",
        "# Liste des scores obtenus pour chaque valeur de n_neighbors\n",
        "score_list = []\n",
        "\n",
        "plt.figure(figsize=(10, 6))\n",
        "\n",
        "for n in n_neighbors_list:\n",
        "    # Créer d'une instance du modèle\n",
        "    knn_model = KNeighborsClassifier(n_neighbors=n)\n",
        "    # Entrainement du modèle\n",
        "    knn_model.fit(X_train, y_train)\n",
        "\n",
        "    # Prédictions et score\n",
        "    predictions = knn_model.predict(X_test)\n",
        "    score_list.append(knn_model.score(X_test, y_test))\n",
        "\n",
        "plt.plot(n_neighbors_list, score_list, color='blue')\n",
        "plt.grid(alpha=0.15)\n",
        "plt.xlabel('Nb of neighbors')\n",
        "plt.ylabel('score')"
      ],
      "execution_count": 29,
      "outputs": [
        {
          "output_type": "execute_result",
          "data": {
            "text/plain": [
              "Text(0, 0.5, 'score')"
            ]
          },
          "metadata": {
            "tags": []
          },
          "execution_count": 29
        },
        {
          "output_type": "display_data",
          "data": {
            "image/png": "[encoded data removed]",
            "text/plain": [
              "<Figure size 720x432 with 1 Axes>"
            ]
          },
          "metadata": {
            "tags": [],
            "needs_background": "light"
          }
        }
      ]
    },
    {
      "cell_type": "code",
      "metadata": {
        "id": "b063yZKPRDWy",
        "colab": {
          "base_uri": "https://localhost:8080/"
        },
        "outputId": "0b172dd6-8f26-44d8-fe7e-cc27cae1ae01"
      },
      "source": [
        "print('Score max: ', max(score_list))\n",
        "print('Nb of neighbors: ', n_neighbors_list[score_list.index(max(score_list))])"
      ],
      "execution_count": 30,
      "outputs": [
        {
          "output_type": "stream",
          "text": [
            "Score max:  0.8591511219248446\n",
            "Nb of neighbors:  4\n"
          ],
          "name": "stdout"
        }
      ]
    },
    {
      "cell_type": "markdown",
      "metadata": {
        "id": "TuZGlZcMRDW6"
      },
      "source": [
        "### Cross validation"
      ]
    },
    {
      "cell_type": "code",
      "metadata": {
        "id": "F0mzwnPeRDW7",
        "colab": {
          "base_uri": "https://localhost:8080/",
          "height": 407
        },
        "outputId": "df54a41e-dd4e-4591-916b-e42a7de141a0"
      },
      "source": [
        "# Modèle KNN avec la meilleure valeur pour le paramètre n_neighbors\n",
        "knn_model = KNeighborsClassifier(n_neighbors=4)\n",
        "\n",
        "# Liste de différentes valeurs de k_fold\n",
        "cv_grid = np.arange(5,11)\n",
        "# Liste des scores obtenus pour chaque valeur du paramètre cv\n",
        "score_list = []\n",
        "\n",
        "plt.figure(figsize=(10, 6))\n",
        "\n",
        "for val in cv_grid:\n",
        "    score = cross_val_score(knn_model, X, Y, cv = val)\n",
        "    score = np.mean(score) # Moyenne de tous les scores obtenus\n",
        "    score_list.append(score)\n",
        "    \n",
        "plt.plot(cv_grid, score_list, color='blue')\n",
        "plt.grid(alpha=0.15)\n",
        "plt.xlabel('Nb of k_fold')\n",
        "plt.ylabel('score')"
      ],
      "execution_count": 31,
      "outputs": [
        {
          "output_type": "execute_result",
          "data": {
            "text/plain": [
              "Text(0, 0.5, 'score')"
            ]
          },
          "metadata": {
            "tags": []
          },
          "execution_count": 31
        },
        {
          "output_type": "display_data",
          "data": {
            "image/png": "[encoded data removed]",
            "text/plain": [
              "<Figure size 720x432 with 1 Axes>"
            ]
          },
          "metadata": {
            "tags": [],
            "needs_background": "light"
          }
        }
      ]
    },
    {
      "cell_type": "code",
      "metadata": {
        "id": "y2PKEhE_RDW8",
        "colab": {
          "base_uri": "https://localhost:8080/"
        },
        "outputId": "46f4da0f-9581-43a6-9e44-a68720c9f9bb"
      },
      "source": [
        "print('Score max: ', max(score_list), '----> Nb de k-fold =', cv_grid[score_list.index(max(score_list))])\n",
        "print('Mean of scores', np.mean(score_list))"
      ],
      "execution_count": 32,
      "outputs": [
        {
          "output_type": "stream",
          "text": [
            "Score max:  0.870316301703163 ----> Nb de k-fold = 10\n",
            "Mean of scores 0.8691122203757641\n"
          ],
          "name": "stdout"
        }
      ]
    },
    {
      "cell_type": "markdown",
      "metadata": {
        "id": "_iiBjLjcRDW9"
      },
      "source": [
        "##### **Avec un nombre de f-Fold entre 5 et 10 et en fixant le paramètre n_neighbors à 4, nous obtenons un score moyen de `0.8691` avec un algorithme de KNN**"
      ]
    },
    {
      "cell_type": "markdown",
      "metadata": {
        "id": "eqr1nbDpXNQB"
      },
      "source": [
        "### ---> Modèle KNN: "
      ]
    },
    {
      "cell_type": "code",
      "metadata": {
        "colab": {
          "base_uri": "https://localhost:8080/"
        },
        "id": "-wWIIWzSW0ir",
        "outputId": "0a82a209-d7bc-4b79-f31c-38b86066e1d0"
      },
      "source": [
        "knn_model = KNeighborsClassifier(n_neighbors=4)\n",
        "knn_model.fit(X, Y)"
      ],
      "execution_count": 33,
      "outputs": [
        {
          "output_type": "execute_result",
          "data": {
            "text/plain": [
              "KNeighborsClassifier(algorithm='auto', leaf_size=30, metric='minkowski',\n",
              "                     metric_params=None, n_jobs=None, n_neighbors=4, p=2,\n",
              "                     weights='uniform')"
            ]
          },
          "metadata": {
            "tags": []
          },
          "execution_count": 33
        }
      ]
    },
    {
      "cell_type": "markdown",
      "metadata": {
        "id": "rNKiAkRvRDW9"
      },
      "source": [
        "## **(2) Modèle de regression logistique**"
      ]
    },
    {
      "cell_type": "code",
      "metadata": {
        "id": "m0qJfgB3RDW9"
      },
      "source": [
        "from sklearn.linear_model import LogisticRegression\n",
        "\n",
        "# Créer d'une instance du modèle\n",
        "logistic_model = LogisticRegression(solver='liblinear')\n",
        "\n",
        "# Entrainement du modèle\n",
        "logistic_model.fit(X_train, y_train)\n",
        "\n",
        "# Prédictions\n",
        "y_pred = logistic_model.predict(X_test)"
      ],
      "execution_count": 34,
      "outputs": []
    },
    {
      "cell_type": "code",
      "metadata": {
        "id": "ZHEtSd3iRDW9",
        "colab": {
          "base_uri": "https://localhost:8080/",
          "height": 130
        },
        "outputId": "8cff9798-5f9d-4183-ce0a-c742b784d4c6"
      },
      "source": [
        "# Evaluation du modèle\n",
        "\n",
        "from sklearn.metrics import confusion_matrix\n",
        "\n",
        "print('Score: ', logistic_model.score(X_train, y_train))\n",
        "\n",
        "cm = confusion_matrix(y_test, y_pred)\n",
        "cm = pd.DataFrame(data=cm, columns=['False', 'True'], index=['real_False','real_True'])\n",
        "cm"
      ],
      "execution_count": 35,
      "outputs": [
        {
          "output_type": "stream",
          "text": [
            "Score:  0.8748696558915537\n"
          ],
          "name": "stdout"
        },
        {
          "output_type": "execute_result",
          "data": {
            "text/html": [
              "<div>\n",
              "<style scoped>\n",
              "    .dataframe tbody tr th:only-of-type {\n",
              "        vertical-align: middle;\n",
              "    }\n",
              "\n",
              "    .dataframe tbody tr th {\n",
              "        vertical-align: top;\n",
              "    }\n",
              "\n",
              "    .dataframe thead th {\n",
              "        text-align: right;\n",
              "    }\n",
              "</style>\n",
              "<table border=\"1\" class=\"dataframe\">\n",
              "  <thead>\n",
              "    <tr style=\"text-align: right;\">\n",
              "      <th></th>\n",
              "      <th>False</th>\n",
              "      <th>True</th>\n",
              "    </tr>\n",
              "  </thead>\n",
              "  <tbody>\n",
              "    <tr>\n",
              "      <th>real_False</th>\n",
              "      <td>3091</td>\n",
              "      <td>36</td>\n",
              "    </tr>\n",
              "    <tr>\n",
              "      <th>real_True</th>\n",
              "      <td>422</td>\n",
              "      <td>150</td>\n",
              "    </tr>\n",
              "  </tbody>\n",
              "</table>\n",
              "</div>"
            ],
            "text/plain": [
              "            False  True\n",
              "real_False   3091    36\n",
              "real_True     422   150"
            ]
          },
          "metadata": {
            "tags": []
          },
          "execution_count": 35
        }
      ]
    },
    {
      "cell_type": "code",
      "metadata": {
        "id": "NxlhS2aNRDW9"
      },
      "source": [
        "TP = cm.loc['real_True','True']\n",
        "TN = cm.loc['real_False','False']\n",
        "FP = cm.loc['real_False', 'True']\n",
        "FN = cm.loc['real_True', 'False']"
      ],
      "execution_count": 36,
      "outputs": []
    },
    {
      "cell_type": "code",
      "metadata": {
        "id": "SZIR5zTlRDW-",
        "colab": {
          "base_uri": "https://localhost:8080/"
        },
        "outputId": "c2f388bd-5e15-43c2-8b0b-f8312d7d43a8"
      },
      "source": [
        "accuracy = (TP+TN)/(TP+TN+FP+FN)\n",
        "print('accuracy = ',accuracy)\n",
        "precision = TP/(TP+FP)\n",
        "print('Precision = ',precision)"
      ],
      "execution_count": 37,
      "outputs": [
        {
          "output_type": "stream",
          "text": [
            "accuracy =  0.8761827520951608\n",
            "Precision =  0.8064516129032258\n"
          ],
          "name": "stdout"
        }
      ]
    },
    {
      "cell_type": "markdown",
      "metadata": {
        "id": "kswGpHY7RDW_"
      },
      "source": [
        "### Cross validation"
      ]
    },
    {
      "cell_type": "code",
      "metadata": {
        "id": "zaLMTw10RDW_",
        "colab": {
          "base_uri": "https://localhost:8080/",
          "height": 407
        },
        "outputId": "722f4d58-414e-462e-9a3b-468e14893fb5"
      },
      "source": [
        "from sklearn.model_selection import cross_val_score\n",
        "\n",
        "# Liste de différentes valeurs de k_fold\n",
        "cv_grid = np.arange(5,11)\n",
        "# Liste des scores obtenus pour chaque valeur du paramètre cv\n",
        "score_list = []\n",
        "\n",
        "plt.figure(figsize=(10, 6))\n",
        "\n",
        "for val in cv_grid:\n",
        "    score = cross_val_score(logistic_model, X, Y, cv = val)\n",
        "    score = np.mean(score) # Moyenne de tous les scores obtenus\n",
        "    score_list.append(score)\n",
        "    \n",
        "plt.plot(cv_grid, score_list, color='green')\n",
        "plt.grid(alpha=0.15)\n",
        "plt.xlabel('Nb of k_fold')\n",
        "plt.ylabel('score')"
      ],
      "execution_count": 38,
      "outputs": [
        {
          "output_type": "execute_result",
          "data": {
            "text/plain": [
              "Text(0, 0.5, 'score')"
            ]
          },
          "metadata": {
            "tags": []
          },
          "execution_count": 38
        },
        {
          "output_type": "display_data",
          "data": {
            "image/png": "[encoded data removed]",
            "text/plain": [
              "<Figure size 720x432 with 1 Axes>"
            ]
          },
          "metadata": {
            "tags": [],
            "needs_background": "light"
          }
        }
      ]
    },
    {
      "cell_type": "code",
      "metadata": {
        "id": "vQ4lnNTIRDW_",
        "colab": {
          "base_uri": "https://localhost:8080/"
        },
        "outputId": "64ec4aa7-7187-44f3-e519-b134a28a1878"
      },
      "source": [
        "print('Score max: ', max(score_list), '----> Nb de k-fold =', cv_grid[score_list.index(max(score_list))])\n",
        "print('Mean of scores', np.mean(score_list))"
      ],
      "execution_count": 39,
      "outputs": [
        {
          "output_type": "stream",
          "text": [
            "Score max:  0.8834549878345499 ----> Nb de k-fold = 5\n",
            "Mean of scores 0.8738306565445705\n"
          ],
          "name": "stdout"
        }
      ]
    },
    {
      "cell_type": "markdown",
      "metadata": {
        "id": "JGrtLY-0RDW_"
      },
      "source": [
        "##### **Avec un nombre de f-Fold entre 5 et 10, nous obtenons un score moyen de `0.8758` avec un algorithme LogisticRegession**"
      ]
    },
    {
      "cell_type": "markdown",
      "metadata": {
        "id": "-9GXZccGbCbA"
      },
      "source": [
        "### ---> Modèle LogisticRegression"
      ]
    },
    {
      "cell_type": "code",
      "metadata": {
        "colab": {
          "base_uri": "https://localhost:8080/"
        },
        "id": "4affbJ5Xa6DL",
        "outputId": "d2f3b0cb-a9b7-4161-8c84-626c3110dd07"
      },
      "source": [
        "logistic_model = LogisticRegression(solver='liblinear')\n",
        "logistic_model.fit(X, Y)"
      ],
      "execution_count": 40,
      "outputs": [
        {
          "output_type": "execute_result",
          "data": {
            "text/plain": [
              "LogisticRegression(C=1.0, class_weight=None, dual=False, fit_intercept=True,\n",
              "                   intercept_scaling=1, l1_ratio=None, max_iter=100,\n",
              "                   multi_class='auto', n_jobs=None, penalty='l2',\n",
              "                   random_state=None, solver='liblinear', tol=0.0001, verbose=0,\n",
              "                   warm_start=False)"
            ]
          },
          "metadata": {
            "tags": []
          },
          "execution_count": 40
        }
      ]
    },
    {
      "cell_type": "markdown",
      "metadata": {
        "id": "KuCGybkkRDXA"
      },
      "source": [
        "## **(3) Arbre de décision de classification**"
      ]
    },
    {
      "cell_type": "code",
      "metadata": {
        "id": "QeP9ipFERDXA"
      },
      "source": [
        "from sklearn.tree import DecisionTreeClassifier\n",
        "from sklearn.model_selection import GridSearchCV"
      ],
      "execution_count": 41,
      "outputs": []
    },
    {
      "cell_type": "code",
      "metadata": {
        "id": "pSPpua0wRDXA",
        "colab": {
          "base_uri": "https://localhost:8080/"
        },
        "outputId": "ed3f3ec4-4220-429a-c8e8-7c1a9cb6dec0"
      },
      "source": [
        "# Initialisation d'un objet DecisionTreeClassifier avec deux arguments.\n",
        "decTree_model = DecisionTreeClassifier(criterion='gini', random_state=50)\n",
        "\n",
        "# Ajustement du modèle sur les données d’entraînement\n",
        "decTree_model.fit(X_train, y_train)\n",
        "\n",
        "# Evaluation de la précision sur les données de test.\n",
        "decTree_model.score(X_test, y_test)"
      ],
      "execution_count": 42,
      "outputs": [
        {
          "output_type": "execute_result",
          "data": {
            "text/plain": [
              "0.863206271965396"
            ]
          },
          "metadata": {
            "tags": []
          },
          "execution_count": 42
        }
      ]
    },
    {
      "cell_type": "code",
      "metadata": {
        "id": "5KnTjO6MRDXB",
        "colab": {
          "base_uri": "https://localhost:8080/",
          "height": 112
        },
        "outputId": "d3427e6c-5293-4d84-f94e-9290ff12d9e0"
      },
      "source": [
        "# Prédictions\n",
        "y_pred = decTree_model.predict(X_test)\n",
        "\n",
        "cm = confusion_matrix(y_test, y_pred)\n",
        "cm = pd.DataFrame(data=cm, columns=['False', 'True'], index=['real_False','real_True'])\n",
        "cm"
      ],
      "execution_count": 43,
      "outputs": [
        {
          "output_type": "execute_result",
          "data": {
            "text/html": [
              "<div>\n",
              "<style scoped>\n",
              "    .dataframe tbody tr th:only-of-type {\n",
              "        vertical-align: middle;\n",
              "    }\n",
              "\n",
              "    .dataframe tbody tr th {\n",
              "        vertical-align: top;\n",
              "    }\n",
              "\n",
              "    .dataframe thead th {\n",
              "        text-align: right;\n",
              "    }\n",
              "</style>\n",
              "<table border=\"1\" class=\"dataframe\">\n",
              "  <thead>\n",
              "    <tr style=\"text-align: right;\">\n",
              "      <th></th>\n",
              "      <th>False</th>\n",
              "      <th>True</th>\n",
              "    </tr>\n",
              "  </thead>\n",
              "  <tbody>\n",
              "    <tr>\n",
              "      <th>real_False</th>\n",
              "      <td>2857</td>\n",
              "      <td>270</td>\n",
              "    </tr>\n",
              "    <tr>\n",
              "      <th>real_True</th>\n",
              "      <td>236</td>\n",
              "      <td>336</td>\n",
              "    </tr>\n",
              "  </tbody>\n",
              "</table>\n",
              "</div>"
            ],
            "text/plain": [
              "            False  True\n",
              "real_False   2857   270\n",
              "real_True     236   336"
            ]
          },
          "metadata": {
            "tags": []
          },
          "execution_count": 43
        }
      ]
    },
    {
      "cell_type": "markdown",
      "metadata": {
        "id": "YoigmlBoRDXB"
      },
      "source": [
        "### Concept de Réglage des Hyperparamètres pour l'arbre de Décision.\n",
        "\n",
        "- Profondeur maximale\n",
        "- Min samples leaf"
      ]
    },
    {
      "cell_type": "code",
      "metadata": {
        "id": "gI6dxIhXRDXB"
      },
      "source": [
        "# Creation de grille des differents hyperparameters\n",
        "\n",
        "grid_params = {\n",
        "    'max_depth': [1,2,3,4,5,6,7,8,9,10],\n",
        "    'min_samples_leaf': [0.01, 0.02, 0.03, 0.04, 0.05, 0.06, 0.08]\n",
        "}"
      ],
      "execution_count": 44,
      "outputs": []
    },
    {
      "cell_type": "code",
      "metadata": {
        "id": "rzD5s6SKRDXB"
      },
      "source": [
        "# Création d'un GridSearchCVobjet avec le classifieur de l’arbre de décision comme estimateur\n",
        "\n",
        "grid_object = GridSearchCV(estimator = decTree_model, param_grid = grid_params, scoring = 'accuracy', cv = 10)"
      ],
      "execution_count": 45,
      "outputs": []
    },
    {
      "cell_type": "code",
      "metadata": {
        "id": "xAkYG4liRDXC",
        "colab": {
          "base_uri": "https://localhost:8080/"
        },
        "outputId": "c8aebda3-1da7-45d0-9c02-51ce4ad9fb9e"
      },
      "source": [
        "# Ajustement de cet objet de grille aux données d'apprentissage\n",
        "grid_object.fit(X, Y)"
      ],
      "execution_count": 46,
      "outputs": [
        {
          "output_type": "execute_result",
          "data": {
            "text/plain": [
              "GridSearchCV(cv=10, error_score=nan,\n",
              "             estimator=DecisionTreeClassifier(ccp_alpha=0.0, class_weight=None,\n",
              "                                              criterion='gini', max_depth=None,\n",
              "                                              max_features=None,\n",
              "                                              max_leaf_nodes=None,\n",
              "                                              min_impurity_decrease=0.0,\n",
              "                                              min_impurity_split=None,\n",
              "                                              min_samples_leaf=1,\n",
              "                                              min_samples_split=2,\n",
              "                                              min_weight_fraction_leaf=0.0,\n",
              "                                              presort='deprecated',\n",
              "                                              random_state=50,\n",
              "                                              splitter='best'),\n",
              "             iid='deprecated', n_jobs=None,\n",
              "             param_grid={'max_depth': [1, 2, 3, 4, 5, 6, 7, 8, 9, 10],\n",
              "                         'min_samples_leaf': [0.01, 0.02, 0.03, 0.04, 0.05,\n",
              "                                              0.06, 0.08]},\n",
              "             pre_dispatch='2*n_jobs', refit=True, return_train_score=False,\n",
              "             scoring='accuracy', verbose=0)"
            ]
          },
          "metadata": {
            "tags": []
          },
          "execution_count": 46
        }
      ]
    },
    {
      "cell_type": "code",
      "metadata": {
        "id": "HGwUmBrqRDXC",
        "colab": {
          "base_uri": "https://localhost:8080/"
        },
        "outputId": "ed24e58d-b9c6-489d-aa90-b52785d593cd"
      },
      "source": [
        "#Extraction des meilleures parametres\n",
        "grid_object.best_params_"
      ],
      "execution_count": 47,
      "outputs": [
        {
          "output_type": "execute_result",
          "data": {
            "text/plain": [
              "{'max_depth': 6, 'min_samples_leaf': 0.01}"
            ]
          },
          "metadata": {
            "tags": []
          },
          "execution_count": 47
        }
      ]
    },
    {
      "cell_type": "markdown",
      "metadata": {
        "id": "qcOi04QHRDXC"
      },
      "source": [
        "### Instancier de nouveau le modèle avec ces paramètres optimaux"
      ]
    },
    {
      "cell_type": "code",
      "metadata": {
        "id": "YspJkn0iRDXC"
      },
      "source": [
        "decTree_model = DecisionTreeClassifier(criterion='gini', max_depth=grid_object.best_params_['max_depth'], \n",
        "                                       min_samples_leaf=grid_object.best_params_['min_samples_leaf'], random_state=50)"
      ],
      "execution_count": 48,
      "outputs": []
    },
    {
      "cell_type": "markdown",
      "metadata": {
        "id": "LKwGR_ixRDXD"
      },
      "source": [
        "### Cross validation sur cette nouvelle instance de modèle"
      ]
    },
    {
      "cell_type": "code",
      "metadata": {
        "id": "o1ZDWWrxRDXF",
        "colab": {
          "base_uri": "https://localhost:8080/",
          "height": 407
        },
        "outputId": "6000da97-2167-4cac-c0f8-a96c90b04509"
      },
      "source": [
        "# Liste de différentes valeurs de k_fold\n",
        "cv_grid = np.arange(5,11)\n",
        "\n",
        "# Liste des scores obtenus pour chaque valeur du paramètre cv\n",
        "score_list = []\n",
        "\n",
        "plt.figure(figsize=(10, 6))\n",
        "\n",
        "for val in cv_grid:\n",
        "    score = cross_val_score(decTree_model, X, Y, cv = val)\n",
        "    score = np.mean(score)\n",
        "    score_list.append(score)\n",
        "plt.plot(cv_grid, score_list, color='red')\n",
        "plt.grid(alpha=0.15)\n",
        "plt.xlabel('Nb of k_fold')\n",
        "plt.ylabel('score')"
      ],
      "execution_count": 49,
      "outputs": [
        {
          "output_type": "execute_result",
          "data": {
            "text/plain": [
              "Text(0, 0.5, 'score')"
            ]
          },
          "metadata": {
            "tags": []
          },
          "execution_count": 49
        },
        {
          "output_type": "display_data",
          "data": {
            "image/png": "[encoded data removed]",
            "text/plain": [
              "<Figure size 720x432 with 1 Axes>"
            ]
          },
          "metadata": {
            "tags": [],
            "needs_background": "light"
          }
        }
      ]
    },
    {
      "cell_type": "code",
      "metadata": {
        "id": "RcqG0kgfRDXF",
        "colab": {
          "base_uri": "https://localhost:8080/"
        },
        "outputId": "950d3951-efcc-4989-b87f-81cc84c145c7"
      },
      "source": [
        "print('Score max: ', max(score_list), '----> Nb de k-fold =', cv_grid[score_list.index(max(score_list))])\n",
        "print('Mean of scores', np.mean(score_list))"
      ],
      "execution_count": 50,
      "outputs": [
        {
          "output_type": "stream",
          "text": [
            "Score max:  0.8992700729927007 ----> Nb de k-fold = 5\n",
            "Mean of scores 0.8933212442230349\n"
          ],
          "name": "stdout"
        }
      ]
    },
    {
      "cell_type": "markdown",
      "metadata": {
        "id": "rbJI_OArRDXF"
      },
      "source": [
        "##### **Avec un nombre de f-Fold entre 5 et 10, et avec les paramètres _'max_depth': 6 et 'min_samples_leaf': 0.01_ nous obtenons un score moyen de `0.8933` avec un algorithme DecisionTreeClassifier**"
      ]
    },
    {
      "cell_type": "markdown",
      "metadata": {
        "id": "VlKPbywmefH7"
      },
      "source": [
        "### ---> Modèle DecisionTreeClassifier:"
      ]
    },
    {
      "cell_type": "code",
      "metadata": {
        "id": "DHmGviVwRDXF",
        "colab": {
          "base_uri": "https://localhost:8080/"
        },
        "outputId": "b2cebbe8-9a4c-4ef1-940a-0a249efd4f4f"
      },
      "source": [
        "decTree_model = DecisionTreeClassifier(criterion='gini', max_depth=grid_object.best_params_['max_depth'], \n",
        "                                       min_samples_leaf=grid_object.best_params_['min_samples_leaf'], random_state=50)\n",
        "\n",
        "decTree_model.fit(X, Y)"
      ],
      "execution_count": 51,
      "outputs": [
        {
          "output_type": "execute_result",
          "data": {
            "text/plain": [
              "DecisionTreeClassifier(ccp_alpha=0.0, class_weight=None, criterion='gini',\n",
              "                       max_depth=6, max_features=None, max_leaf_nodes=None,\n",
              "                       min_impurity_decrease=0.0, min_impurity_split=None,\n",
              "                       min_samples_leaf=0.01, min_samples_split=2,\n",
              "                       min_weight_fraction_leaf=0.0, presort='deprecated',\n",
              "                       random_state=50, splitter='best')"
            ]
          },
          "metadata": {
            "tags": []
          },
          "execution_count": 51
        }
      ]
    },
    {
      "cell_type": "markdown",
      "metadata": {
        "id": "H1k_GDl4ev5W"
      },
      "source": [
        "## **(4) Random Forest**"
      ]
    },
    {
      "cell_type": "code",
      "metadata": {
        "id": "w4kl2Hv4RDXF",
        "colab": {
          "base_uri": "https://localhost:8080/"
        },
        "outputId": "e30d33e6-643b-4df6-8d20-332dbcab4cc7"
      },
      "source": [
        "from sklearn.ensemble import RandomForestClassifier\n",
        "\n",
        "# Initialisation d'un classifieur de forêt aléatoire avec des paramètres par défaut\n",
        "randomF_model = RandomForestClassifier(random_state = 50)\n",
        "\n",
        "# # Ajustement du modèle sur les données d’entraînement\n",
        "randomF_model.fit(X_train, y_train)\n",
        "\n",
        "# Evaluation de son exactitude à partir des données de test.\n",
        "test_score = randomF_model.score(X_test, y_test)\n",
        "test_score"
      ],
      "execution_count": 52,
      "outputs": [
        {
          "output_type": "execute_result",
          "data": {
            "text/plain": [
              "0.8951067856177345"
            ]
          },
          "metadata": {
            "tags": []
          },
          "execution_count": 52
        }
      ]
    },
    {
      "cell_type": "code",
      "metadata": {
        "id": "4du-750JRDXG",
        "colab": {
          "base_uri": "https://localhost:8080/",
          "height": 112
        },
        "outputId": "62db100a-edff-43c6-d472-93d0af0f108d"
      },
      "source": [
        "# Matrice de confusion\n",
        "cm = confusion_matrix(y_test, y_pred)\n",
        "cm = pd.DataFrame(data=cm, columns=['False', 'True'], index=['real_False','real_True'])\n",
        "cm"
      ],
      "execution_count": 53,
      "outputs": [
        {
          "output_type": "execute_result",
          "data": {
            "text/html": [
              "<div>\n",
              "<style scoped>\n",
              "    .dataframe tbody tr th:only-of-type {\n",
              "        vertical-align: middle;\n",
              "    }\n",
              "\n",
              "    .dataframe tbody tr th {\n",
              "        vertical-align: top;\n",
              "    }\n",
              "\n",
              "    .dataframe thead th {\n",
              "        text-align: right;\n",
              "    }\n",
              "</style>\n",
              "<table border=\"1\" class=\"dataframe\">\n",
              "  <thead>\n",
              "    <tr style=\"text-align: right;\">\n",
              "      <th></th>\n",
              "      <th>False</th>\n",
              "      <th>True</th>\n",
              "    </tr>\n",
              "  </thead>\n",
              "  <tbody>\n",
              "    <tr>\n",
              "      <th>real_False</th>\n",
              "      <td>2857</td>\n",
              "      <td>270</td>\n",
              "    </tr>\n",
              "    <tr>\n",
              "      <th>real_True</th>\n",
              "      <td>236</td>\n",
              "      <td>336</td>\n",
              "    </tr>\n",
              "  </tbody>\n",
              "</table>\n",
              "</div>"
            ],
            "text/plain": [
              "            False  True\n",
              "real_False   2857   270\n",
              "real_True     236   336"
            ]
          },
          "metadata": {
            "tags": []
          },
          "execution_count": 53
        }
      ]
    },
    {
      "cell_type": "markdown",
      "metadata": {
        "id": "1XGVVQ5HfNCZ"
      },
      "source": [
        "### Réglage des Hyperparamètres pour l'arbre de Décision.\n",
        "\n",
        "- max_features\n",
        "- n_estimators\n",
        "- min_samples_leaf"
      ]
    },
    {
      "cell_type": "code",
      "metadata": {
        "id": "n7RntIb-fKut"
      },
      "source": [
        "grid_params = {\n",
        " 'max_features': [0.387904466210252],\n",
        " 'n_estimators': [198, 200], #nbre d'arbre dont nous souhaitons que notre algo de forêt aléatoire tienne compte lors des prédictions finales\n",
        " 'min_samples_leaf': [15]\n",
        "}"
      ],
      "execution_count": 54,
      "outputs": []
    },
    {
      "cell_type": "code",
      "metadata": {
        "id": "TXQyaHrQfQCC"
      },
      "source": [
        "# Création d'un GridSearchCVobjet avec le classifieur de l’arbre de décision comme estimateur\n",
        "grid_object = GridSearchCV(estimator = randomF_model, param_grid = grid_params, scoring = 'accuracy', cv = 10)"
      ],
      "execution_count": 55,
      "outputs": []
    },
    {
      "cell_type": "code",
      "metadata": {
        "colab": {
          "base_uri": "https://localhost:8080/"
        },
        "id": "gZ9M_ym3fVeA",
        "outputId": "05d76236-5600-4792-bf74-aad2917d8c4f"
      },
      "source": [
        "# Ajustement de cet objet de grille aux données d'apprentissage\n",
        "grid_object.fit(X_train, y_train)"
      ],
      "execution_count": 56,
      "outputs": [
        {
          "output_type": "execute_result",
          "data": {
            "text/plain": [
              "GridSearchCV(cv=10, error_score=nan,\n",
              "             estimator=RandomForestClassifier(bootstrap=True, ccp_alpha=0.0,\n",
              "                                              class_weight=None,\n",
              "                                              criterion='gini', max_depth=None,\n",
              "                                              max_features='auto',\n",
              "                                              max_leaf_nodes=None,\n",
              "                                              max_samples=None,\n",
              "                                              min_impurity_decrease=0.0,\n",
              "                                              min_impurity_split=None,\n",
              "                                              min_samples_leaf=1,\n",
              "                                              min_samples_split=2,\n",
              "                                              min_weight_fraction_leaf=0.0,\n",
              "                                              n_estimators=100, n_jobs=None,\n",
              "                                              oob_score=False, random_state=50,\n",
              "                                              verbose=0, warm_start=False),\n",
              "             iid='deprecated', n_jobs=None,\n",
              "             param_grid={'max_features': [0.387904466210252],\n",
              "                         'min_samples_leaf': [15], 'n_estimators': [198, 200]},\n",
              "             pre_dispatch='2*n_jobs', refit=True, return_train_score=False,\n",
              "             scoring='accuracy', verbose=0)"
            ]
          },
          "metadata": {
            "tags": []
          },
          "execution_count": 56
        }
      ]
    },
    {
      "cell_type": "code",
      "metadata": {
        "colab": {
          "base_uri": "https://localhost:8080/"
        },
        "id": "bauJpA6cfZ1J",
        "outputId": "49417a4b-8fa5-40e3-8607-eddd5c708e83"
      },
      "source": [
        "#Extraction des meilleures parametres\n",
        "grid_object.best_params_"
      ],
      "execution_count": 57,
      "outputs": [
        {
          "output_type": "execute_result",
          "data": {
            "text/plain": [
              "{'max_features': 0.387904466210252,\n",
              " 'min_samples_leaf': 15,\n",
              " 'n_estimators': 200}"
            ]
          },
          "metadata": {
            "tags": []
          },
          "execution_count": 57
        }
      ]
    },
    {
      "cell_type": "code",
      "metadata": {
        "colab": {
          "base_uri": "https://localhost:8080/"
        },
        "id": "Lup1n1Gpfhbi",
        "outputId": "89a18fc0-a8c7-48c4-f661-6a30fd72a55a"
      },
      "source": [
        "# Ajustement du modèle avec ces paramètres\n",
        "\n",
        "randomF_model = RandomForestClassifier(max_features= 0.387904466210252, min_samples_leaf=15, n_estimators=200, random_state = 4)\n",
        "\n",
        "randomF_model.fit(X_train, y_train)\n",
        "randomF_model.score(X_test, y_test)"
      ],
      "execution_count": 58,
      "outputs": [
        {
          "output_type": "execute_result",
          "data": {
            "text/plain": [
              "0.901595025682617"
            ]
          },
          "metadata": {
            "tags": []
          },
          "execution_count": 58
        }
      ]
    },
    {
      "cell_type": "markdown",
      "metadata": {
        "id": "1SgaAVYgf8wL"
      },
      "source": [
        "**Avec les paramètres _'max_features': 0.387904466210252, 'min_samples_leaf': 15,\n",
        "'n_estimators': 200,_ nous obtenons un score de de `0.9015` avec un algorithme RandomForest**"
      ]
    },
    {
      "cell_type": "markdown",
      "metadata": {
        "id": "FbNRNQfLhjJZ"
      },
      "source": [
        "### Modèle Random Forest"
      ]
    },
    {
      "cell_type": "code",
      "metadata": {
        "id": "AvRy0_XlgYpB",
        "colab": {
          "base_uri": "https://localhost:8080/"
        },
        "outputId": "f8cb170a-2a4b-43ae-9227-ea4fec14119d"
      },
      "source": [
        "randomF_model = RandomForestClassifier(max_features= 0.387904466210252, min_samples_leaf=15, n_estimators=200, random_state = 4)\n",
        "randomF_model.fit(X_train, y_train)"
      ],
      "execution_count": 59,
      "outputs": [
        {
          "output_type": "execute_result",
          "data": {
            "text/plain": [
              "RandomForestClassifier(bootstrap=True, ccp_alpha=0.0, class_weight=None,\n",
              "                       criterion='gini', max_depth=None,\n",
              "                       max_features=0.387904466210252, max_leaf_nodes=None,\n",
              "                       max_samples=None, min_impurity_decrease=0.0,\n",
              "                       min_impurity_split=None, min_samples_leaf=15,\n",
              "                       min_samples_split=2, min_weight_fraction_leaf=0.0,\n",
              "                       n_estimators=200, n_jobs=None, oob_score=False,\n",
              "                       random_state=4, verbose=0, warm_start=False)"
            ]
          },
          "metadata": {
            "tags": []
          },
          "execution_count": 59
        }
      ]
    }
  ]
}